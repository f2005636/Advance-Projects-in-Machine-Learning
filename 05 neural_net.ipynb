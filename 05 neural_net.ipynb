{
 "cells": [
  {
   "cell_type": "markdown",
   "metadata": {},
   "source": [
    "# Neural Network"
   ]
  },
  {
   "cell_type": "markdown",
   "metadata": {},
   "source": [
    "###### Default of credit card clients: This research aimed at the case of customers default payments in Taiwan. From the perspective of risk management, the result of predictive accuracy of the estimated probability of default will be more valuable than the binary result of classification - credible or not credible clients. \n",
    "\n",
    "###### Location: http://archive.ics.uci.edu/ml/datasets/default+of+credit+card+clients#"
   ]
  },
  {
   "cell_type": "code",
   "execution_count": 1,
   "metadata": {
    "collapsed": true
   },
   "outputs": [],
   "source": [
    "import math\n",
    "import numpy as np\n",
    "import pandas as pd\n",
    "from datetime import datetime\n",
    "\n",
    "import seaborn as sns\n",
    "import matplotlib.pyplot as plt\n",
    "%matplotlib inline \n",
    "plt.style.use('seaborn-whitegrid')\n",
    "\n",
    "from sklearn.model_selection import train_test_split\n",
    "from sklearn.linear_model import LogisticRegression\n",
    "from sklearn.neural_network import MLPClassifier\n",
    "from sklearn.metrics import classification_report\n",
    "from sklearn.metrics import confusion_matrix"
   ]
  },
  {
   "cell_type": "markdown",
   "metadata": {},
   "source": [
    "# Get the Data"
   ]
  },
  {
   "cell_type": "markdown",
   "metadata": {},
   "source": [
    "**We tracked the past monthly payment records (from April to September, 2005) as follows: **\n",
    "* X1: Amount of the given credit (NT dollar)\n",
    "* X2: Gender (1 = male; 2 = female)\n",
    "* X3: Education (1 = graduate school; 2 = university; 3 = high school; 4 = others). \n",
    "* X4: Marital status (1 = married; 2 = single; 3 = others). \n",
    "* X5: Age (year)\n",
    "* X6 - X11: History of past payment. X6 = the repayment status in September, 2005; X7 = the repayment status in August, 2005; . . .;X11 = the repayment status in April, 2005. The measurement scale for the repayment status is: -1 = pay duly; 1 = payment delay for one month; 2 = payment delay for two months; . . .; 8 = payment delay for eight months; 9 = payment delay for nine months and above. \n",
    "* X12-X17: Amount of bill statement (NT dollar). X12 = amount of bill statement in September, 2005; X13 = amount of bill statement in August, 2005; . . .; X17 = amount of bill statement in April, 2005. \n",
    "* X18-X23: Amount of previous payment (NT dollar). X18 = amount paid in September, 2005; X19 = amount paid in August, 2005; . . .;X23 = amount paid in April, 2005. "
   ]
  },
  {
   "cell_type": "code",
   "execution_count": 2,
   "metadata": {},
   "outputs": [
    {
     "name": "stdout",
     "output_type": "stream",
     "text": [
      "<class 'pandas.core.frame.DataFrame'>\n",
      "RangeIndex: 30000 entries, 0 to 29999\n",
      "Data columns (total 24 columns):\n",
      "LIMIT_BAL        30000 non-null int64\n",
      "SEX              30000 non-null int64\n",
      "EDUCATION        30000 non-null int64\n",
      "MARRIAGE         30000 non-null int64\n",
      "AGE              30000 non-null int64\n",
      "PAY_SEP05        30000 non-null int64\n",
      "PAY_AUG05        30000 non-null int64\n",
      "PAY_JUL05        30000 non-null int64\n",
      "PAY_JUN05        30000 non-null int64\n",
      "PAY_MAY05        30000 non-null int64\n",
      "PAY_APR05        30000 non-null int64\n",
      "BILLAMT_SEP05    30000 non-null int64\n",
      "BILLAMT_AUG05    30000 non-null int64\n",
      "BILLAMT_JUL05    30000 non-null int64\n",
      "BILLAMT_JUN05    30000 non-null int64\n",
      "BILLAMT_MAY05    30000 non-null int64\n",
      "BILLAMT_APR05    30000 non-null int64\n",
      "PAYAMT_SEP05     30000 non-null int64\n",
      "PAYAMT_AUG05     30000 non-null int64\n",
      "PAYAMT_JUL05     30000 non-null int64\n",
      "PAYAMT_JUN05     30000 non-null int64\n",
      "PAYAMT_MAY05     30000 non-null int64\n",
      "PAYAMT_APR05     30000 non-null int64\n",
      "DEF_FLAG         30000 non-null int64\n",
      "dtypes: int64(24)\n",
      "memory usage: 5.5 MB\n"
     ]
    }
   ],
   "source": [
    "df = pd.read_csv('default of credit card clients.csv',sep=',')\n",
    "df.columns = ['LIMIT_BAL','SEX','EDUCATION','MARRIAGE','AGE',\n",
    "              'PAY_SEP05','PAY_AUG05','PAY_JUL05','PAY_JUN05','PAY_MAY05','PAY_APR05',\n",
    "              'BILLAMT_SEP05','BILLAMT_AUG05','BILLAMT_JUL05','BILLAMT_JUN05','BILLAMT_MAY05','BILLAMT_APR05',\n",
    "              'PAYAMT_SEP05','PAYAMT_AUG05','PAYAMT_JUL05','PAYAMT_JUN05','PAYAMT_MAY05','PAYAMT_APR05','DEF_FLAG']\n",
    "df.info()"
   ]
  },
  {
   "cell_type": "markdown",
   "metadata": {},
   "source": [
    "# Data Cleaning"
   ]
  },
  {
   "cell_type": "markdown",
   "metadata": {},
   "source": [
    "* df has 30,000 rows\n",
    "* temp3 has 29,148 rows"
   ]
  },
  {
   "cell_type": "code",
   "execution_count": 3,
   "metadata": {
    "collapsed": true
   },
   "outputs": [],
   "source": [
    "temp1 = df[df['EDUCATION'].isin([1,2,3])].copy()\n",
    "temp2 = temp1[temp1['MARRIAGE'].isin([1,2])].copy()\n",
    "temp3 = temp2[temp2['AGE'] <= 70].copy()"
   ]
  },
  {
   "cell_type": "markdown",
   "metadata": {},
   "source": [
    "# EDA"
   ]
  },
  {
   "cell_type": "markdown",
   "metadata": {
    "collapsed": true
   },
   "source": [
    "**5 Variables are considered for this analysis:**\n",
    "* SEX (2 bins)\n",
    "* MARRIAGE (2 bins)\n",
    "* PAYAMT_BIN (7 bins)\n",
    "* REVOLVE_BIN (5 bins)\n",
    "* AGE_EDUCATION (2 bins)"
   ]
  },
  {
   "cell_type": "code",
   "execution_count": 4,
   "metadata": {},
   "outputs": [
    {
     "data": {
      "text/plain": [
       "<matplotlib.legend.Legend at 0x214d8140860>"
      ]
     },
     "execution_count": 4,
     "metadata": {},
     "output_type": "execute_result"
    },
    {
     "data": {
      "image/png": "[encoded data removed]",
      "text/plain": [
       "<matplotlib.figure.Figure at 0x214d8194be0>"
      ]
     },
     "metadata": {},
     "output_type": "display_data"
    }
   ],
   "source": [
    "#SEX\n",
    "x_chart = temp3.pivot_table(values=['LIMIT_BAL'], index=['SEX'], columns=['DEF_FLAG'], aggfunc='count')\n",
    "x_chart = x_chart.apply(lambda c: c / c.sum() * 100, axis=1)\n",
    "x_chart.plot(kind=\"bar\",stacked=True)\n",
    "plt.legend(loc='center left', bbox_to_anchor=(1.0, 0.5))"
   ]
  },
  {
   "cell_type": "code",
   "execution_count": 5,
   "metadata": {},
   "outputs": [
    {
     "data": {
      "text/plain": [
       "<matplotlib.legend.Legend at 0x214d81409b0>"
      ]
     },
     "execution_count": 5,
     "metadata": {},
     "output_type": "execute_result"
    },
    {
     "data": {
      "image/png": "[encoded data removed]",
      "text/plain": [
       "<matplotlib.figure.Figure at 0x214d8140b70>"
      ]
     },
     "metadata": {},
     "output_type": "display_data"
    }
   ],
   "source": [
    "#MARRIAGE\n",
    "x_chart = temp3.pivot_table(values=['LIMIT_BAL'], index=['MARRIAGE'], columns=['DEF_FLAG'], aggfunc='count')\n",
    "x_chart = x_chart.apply(lambda c: c / c.sum() * 100, axis=1)\n",
    "x_chart.plot(kind=\"bar\",stacked=True)\n",
    "plt.legend(loc='center left', bbox_to_anchor=(1.0, 0.5))"
   ]
  },
  {
   "cell_type": "code",
   "execution_count": 6,
   "metadata": {},
   "outputs": [
    {
     "data": {
      "text/plain": [
       "<matplotlib.legend.Legend at 0x214d86ba4e0>"
      ]
     },
     "execution_count": 6,
     "metadata": {},
     "output_type": "execute_result"
    },
    {
     "data": {
      "image/png": "[encoded data removed]",
      "text/plain": [
       "<matplotlib.figure.Figure at 0x214d8c67358>"
      ]
     },
     "metadata": {},
     "output_type": "display_data"
    }
   ],
   "source": [
    "#PAYAMT_BIN\n",
    "temp3['PAYAMT_SUM'] = temp3['PAYAMT_SEP05'] + temp3['PAYAMT_AUG05'] + temp3['PAYAMT_JUL05'] + temp3['PAYAMT_JUN05'] + temp3['PAYAMT_MAY05'] + temp3['PAYAMT_APR05']\n",
    "temp3['PAYAMT_AVG'] = temp3['PAYAMT_SUM']/6\n",
    "\n",
    "def bin_x (x): \n",
    "    if x <= 200: return 'a. <= 200'\n",
    "    elif x <= 1200: return 'b. <= 1200'\n",
    "    elif x <= 2100: return 'c. <= 2100'\n",
    "    elif x <= 2700: return 'd. <= 2700'\n",
    "    elif x <= 4200: return 'e. <= 4200'\n",
    "    elif x <= 9600: return 'f. <= 9600'\n",
    "    else: return 'g. > 9600'\n",
    "temp3['PAYAMT_BIN'] = temp3['PAYAMT_AVG'].apply(bin_x)\n",
    "    \n",
    "x_chart = temp3.pivot_table(values=['LIMIT_BAL'], index=['PAYAMT_BIN'], columns=['DEF_FLAG'], aggfunc='count')\n",
    "x_chart = x_chart.apply(lambda c: c / c.sum() * 100, axis=1)\n",
    "x_chart.plot(kind=\"bar\",stacked=True)\n",
    "plt.legend(loc='center left', bbox_to_anchor=(1.0, 0.5))"
   ]
  },
  {
   "cell_type": "code",
   "execution_count": 7,
   "metadata": {},
   "outputs": [
    {
     "data": {
      "text/plain": [
       "<matplotlib.legend.Legend at 0x214d8eb38d0>"
      ]
     },
     "execution_count": 7,
     "metadata": {},
     "output_type": "execute_result"
    },
    {
     "data": {
      "image/png": "[encoded data removed]",
      "text/plain": [
       "<matplotlib.figure.Figure at 0x214d8eb34a8>"
      ]
     },
     "metadata": {},
     "output_type": "display_data"
    }
   ],
   "source": [
    "#REVOLVE_BIN\n",
    "temp3['BILLAMT_SUM'] = temp3['BILLAMT_SEP05'] + temp3['BILLAMT_AUG05'] + temp3['BILLAMT_JUL05'] + temp3['BILLAMT_JUN05'] + temp3['BILLAMT_MAY05'] + temp3['BILLAMT_APR05']\n",
    "temp3['REVOLVE_SUM'] = temp3['BILLAMT_SUM'] / temp3['LIMIT_BAL']\n",
    "\n",
    "def bin_x (x): \n",
    "    if x <= 0.01: return 'b. <= 0.01 & 3.5-4.5';\n",
    "    elif x <= 0.05: return 'c. 0.01-0.05 & 2.5-3.5';\n",
    "    elif x <= 0.10: return 'd. 0.05-0.10 & 1.5-2.5';\n",
    "    elif x <= 1.50: return 'e. 0.10-1.50';\n",
    "    elif x <= 2.50: return 'd. 0.05-0.10 & 1.5-2.5';\n",
    "    elif x <= 3.50: return 'c. 0.01-0.05 & 2.5-3.5';\n",
    "    elif x <= 4.50: return 'b. <= 0.01 & 3.5-4.5';\n",
    "    else: return 'a. > 4.5';\n",
    "temp3['REVOLVE_BIN'] = temp3['REVOLVE_SUM'].apply(bin_x)\n",
    "    \n",
    "x_chart = temp3.pivot_table(values=['LIMIT_BAL'], index=['REVOLVE_BIN'], columns=['DEF_FLAG'], aggfunc='count')\n",
    "x_chart = x_chart.apply(lambda c: c / c.sum() * 100, axis=1)\n",
    "x_chart.plot(kind=\"bar\",stacked=True)\n",
    "plt.legend(loc='center left', bbox_to_anchor=(1.0, 0.5))"
   ]
  },
  {
   "cell_type": "code",
   "execution_count": 8,
   "metadata": {},
   "outputs": [
    {
     "data": {
      "text/plain": [
       "<matplotlib.legend.Legend at 0x214d8f210f0>"
      ]
     },
     "execution_count": 8,
     "metadata": {},
     "output_type": "execute_result"
    },
    {
     "data": {
      "image/png": "[encoded data removed]",
      "text/plain": [
       "<matplotlib.figure.Figure at 0x214d8eb3438>"
      ]
     },
     "metadata": {},
     "output_type": "display_data"
    }
   ],
   "source": [
    "#AGE_EDUCATION\n",
    "def bin_x (x): \n",
    "    if x <= 25: return 'a. 0-25 & 46-70'\n",
    "    elif x <= 45: return 'b. 26-45'\n",
    "    else: return 'a. 0-25 & 46-70'\n",
    "temp3['AGE_BIN'] = temp3['AGE'].apply(bin_x)\n",
    "\n",
    "def bin_x (x): \n",
    "    x1 = x[0]\n",
    "    x2 = x[1]\n",
    "    if x1 == 'a. 0-25 & 46-70' and x2 == 1: return 'b. Low';\n",
    "    elif x1 == 'a. 0-25 & 46-70' and x2 == 2: return 'a. High';\n",
    "    elif x1 == 'a. 0-25 & 46-70' and x2 == 3: return 'a. High';\n",
    "    elif x1 == 'b. 26-45' and x2 == 1: return 'b. Low';\n",
    "    else: return 'b. Low';\n",
    "temp3['AGE_EDUCATION'] = temp3[['AGE_BIN','EDUCATION']].apply(bin_x,axis=1)\n",
    "\n",
    "x_chart = temp3.pivot_table(values=['LIMIT_BAL'], index=['AGE_EDUCATION'], columns=['DEF_FLAG'], aggfunc='count')\n",
    "x_chart = x_chart.apply(lambda c: c / c.sum() * 100, axis=1)\n",
    "x_chart.plot(kind=\"bar\",stacked=True)\n",
    "plt.legend(loc='center left', bbox_to_anchor=(1.0, 0.5))"
   ]
  },
  {
   "cell_type": "code",
   "execution_count": 9,
   "metadata": {
    "collapsed": true
   },
   "outputs": [],
   "source": [
    "temp = temp3[['SEX', 'MARRIAGE', 'PAYAMT_BIN', 'REVOLVE_BIN', 'AGE_EDUCATION', 'DEF_FLAG']].copy()"
   ]
  },
  {
   "cell_type": "markdown",
   "metadata": {},
   "source": [
    "# Final Dataset for Model Development"
   ]
  },
  {
   "cell_type": "markdown",
   "metadata": {},
   "source": [
    "* Total rows = 29,148\n",
    "* Train rows = 20,403\n",
    "* Test rows  =  8,745"
   ]
  },
  {
   "cell_type": "code",
   "execution_count": 10,
   "metadata": {},
   "outputs": [
    {
     "name": "stdout",
     "output_type": "stream",
     "text": [
      "<class 'pandas.core.frame.DataFrame'>\n",
      "Int64Index: 29148 entries, 0 to 29999\n",
      "Data columns (total 14 columns):\n",
      "DEF_FLAG                              29148 non-null int64\n",
      "SEX_2                                 29148 non-null uint8\n",
      "MARRIAGE_2                            29148 non-null uint8\n",
      "PAYAMT_BIN_b. <= 1200                 29148 non-null uint8\n",
      "PAYAMT_BIN_c. <= 2100                 29148 non-null uint8\n",
      "PAYAMT_BIN_d. <= 2700                 29148 non-null uint8\n",
      "PAYAMT_BIN_e. <= 4200                 29148 non-null uint8\n",
      "PAYAMT_BIN_f. <= 9600                 29148 non-null uint8\n",
      "PAYAMT_BIN_g. > 9600                  29148 non-null uint8\n",
      "REVOLVE_BIN_b. <= 0.01 & 3.5-4.5      29148 non-null uint8\n",
      "REVOLVE_BIN_c. 0.01-0.05 & 2.5-3.5    29148 non-null uint8\n",
      "REVOLVE_BIN_d. 0.05-0.10 & 1.5-2.5    29148 non-null uint8\n",
      "REVOLVE_BIN_e. 0.10-1.50              29148 non-null uint8\n",
      "AGE_EDUCATION_b. Low                  29148 non-null uint8\n",
      "dtypes: int64(1), uint8(13)\n",
      "memory usage: 825.5 KB\n"
     ]
    }
   ],
   "source": [
    "cat_feats = ['SEX', 'MARRIAGE', 'PAYAMT_BIN', 'REVOLVE_BIN', 'AGE_EDUCATION']\n",
    "final_data = pd.get_dummies(temp,columns=cat_feats,drop_first=True)\n",
    "final_data.info()"
   ]
  },
  {
   "cell_type": "code",
   "execution_count": 11,
   "metadata": {
    "collapsed": true
   },
   "outputs": [],
   "source": [
    "x = final_data.drop(['DEF_FLAG'],axis=1)\n",
    "y = final_data['DEF_FLAG']\n",
    "x_train, x_test, y_train, y_test = train_test_split(x,y,stratify=y,test_size=0.3,random_state=101)"
   ]
  },
  {
   "cell_type": "markdown",
   "metadata": {},
   "source": [
    "# Neural Net - Building the Model"
   ]
  },
  {
   "cell_type": "code",
   "execution_count": 12,
   "metadata": {},
   "outputs": [
    {
     "data": {
      "text/plain": [
       "<matplotlib.axes._subplots.AxesSubplot at 0x214d8f71198>"
      ]
     },
     "execution_count": 12,
     "metadata": {},
     "output_type": "execute_result"
    },
    {
     "data": {
      "image/png": "[encoded data removed]",
      "text/plain": [
       "<matplotlib.figure.Figure at 0x214d81402b0>"
      ]
     },
     "metadata": {},
     "output_type": "display_data"
    }
   ],
   "source": [
    "results = []\n",
    "activation_options = ['identity', 'logistic', 'tanh', 'relu']\n",
    "for neurons in activation_options:\n",
    "    model = MLPClassifier(activation=neurons,random_state=101)\n",
    "    model.fit(x_train, y_train)\n",
    "    y_pred = model.predict(x_test)\n",
    "    accuracy = np.mean(y_test==y_pred)\n",
    "    results.append(accuracy)\n",
    "\n",
    "plt.figure(figsize=(8,4))\n",
    "pd.Series(results, activation_options).plot(kind=\"bar\",color=\"darkred\",ylim=(0.7,0.8))"
   ]
  },
  {
   "cell_type": "code",
   "execution_count": 13,
   "metadata": {},
   "outputs": [
    {
     "data": {
      "text/plain": [
       "<matplotlib.axes._subplots.AxesSubplot at 0x214d8fa1e10>"
      ]
     },
     "execution_count": 13,
     "metadata": {},
     "output_type": "execute_result"
    },
    {
     "data": {
      "image/png": "[encoded data removed]",
      "text/plain": [
       "<matplotlib.figure.Figure at 0x214dab110b8>"
      ]
     },
     "metadata": {},
     "output_type": "display_data"
    }
   ],
   "source": [
    "results = []\n",
    "solver_options = ['lbfgs', 'sgd', 'adam']\n",
    "for neurons in solver_options:\n",
    "    model = MLPClassifier(activation='logistic',solver=neurons,random_state=101)\n",
    "    model.fit(x_train, y_train)\n",
    "    y_pred = model.predict(x_test)\n",
    "    accuracy = np.mean(y_test==y_pred)\n",
    "    results.append(accuracy)\n",
    "\n",
    "plt.figure(figsize=(8,4))\n",
    "pd.Series(results, solver_options).plot(kind=\"bar\",color=\"darkred\",ylim=(0.7,0.8))"
   ]
  },
  {
   "cell_type": "code",
   "execution_count": 14,
   "metadata": {
    "collapsed": true
   },
   "outputs": [],
   "source": [
    "results = []"
   ]
  },
  {
   "cell_type": "code",
   "execution_count": 15,
   "metadata": {
    "collapsed": true
   },
   "outputs": [],
   "source": [
    "model = MLPClassifier(activation='logistic',solver='lbfgs',hidden_layer_sizes=(5,5),random_state=101)\n",
    "model.fit(x_train, y_train)\n",
    "y_pred = model.predict(x_test)\n",
    "accuracy = np.mean(y_test==y_pred)\n",
    "results.append(accuracy)"
   ]
  },
  {
   "cell_type": "code",
   "execution_count": 16,
   "metadata": {
    "collapsed": true
   },
   "outputs": [],
   "source": [
    "model = MLPClassifier(activation='logistic',solver='lbfgs',hidden_layer_sizes=(10,10),random_state=101)\n",
    "model.fit(x_train, y_train)\n",
    "y_pred = model.predict(x_test)\n",
    "accuracy = np.mean(y_test==y_pred)\n",
    "results.append(accuracy)"
   ]
  },
  {
   "cell_type": "code",
   "execution_count": 17,
   "metadata": {
    "collapsed": true
   },
   "outputs": [],
   "source": [
    "model = MLPClassifier(activation='logistic',solver='lbfgs',hidden_layer_sizes=(25,25),random_state=101)\n",
    "model.fit(x_train, y_train)\n",
    "y_pred = model.predict(x_test)\n",
    "accuracy = np.mean(y_test==y_pred)\n",
    "results.append(accuracy)"
   ]
  },
  {
   "cell_type": "code",
   "execution_count": 18,
   "metadata": {
    "collapsed": true
   },
   "outputs": [],
   "source": [
    "model = MLPClassifier(activation='logistic',solver='lbfgs',hidden_layer_sizes=(50,50),random_state=101)\n",
    "model.fit(x_train, y_train)\n",
    "y_pred = model.predict(x_test)\n",
    "accuracy = np.mean(y_test==y_pred)\n",
    "results.append(accuracy)"
   ]
  },
  {
   "cell_type": "code",
   "execution_count": 19,
   "metadata": {
    "collapsed": true
   },
   "outputs": [],
   "source": [
    "model = MLPClassifier(activation='logistic',solver='lbfgs',hidden_layer_sizes=(100,100),random_state=101)\n",
    "model.fit(x_train, y_train)\n",
    "y_pred = model.predict(x_test)\n",
    "accuracy = np.mean(y_test==y_pred)\n",
    "results.append(accuracy)"
   ]
  },
  {
   "cell_type": "code",
   "execution_count": 20,
   "metadata": {
    "collapsed": true
   },
   "outputs": [],
   "source": [
    "model = MLPClassifier(activation='logistic',solver='lbfgs',hidden_layer_sizes=(250,250),random_state=101)\n",
    "model.fit(x_train, y_train)\n",
    "y_pred = model.predict(x_test)\n",
    "accuracy = np.mean(y_test==y_pred)\n",
    "results.append(accuracy)"
   ]
  },
  {
   "cell_type": "code",
   "execution_count": 21,
   "metadata": {
    "collapsed": true
   },
   "outputs": [],
   "source": [
    "model = MLPClassifier(activation='logistic',solver='lbfgs',hidden_layer_sizes=(500,500),random_state=101)\n",
    "model.fit(x_train, y_train)\n",
    "y_pred = model.predict(x_test)\n",
    "accuracy = np.mean(y_test==y_pred)\n",
    "results.append(accuracy)"
   ]
  },
  {
   "cell_type": "code",
   "execution_count": 22,
   "metadata": {},
   "outputs": [
    {
     "data": {
      "text/plain": [
       "<matplotlib.axes._subplots.AxesSubplot at 0x214dab11550>"
      ]
     },
     "execution_count": 22,
     "metadata": {},
     "output_type": "execute_result"
    },
    {
     "data": {
      "image/png": "[encoded data removed]",
      "text/plain": [
       "<matplotlib.figure.Figure at 0x214d4639cf8>"
      ]
     },
     "metadata": {},
     "output_type": "display_data"
    }
   ],
   "source": [
    "plt.figure(figsize=(8,4))\n",
    "pd.Series(results, range(7)).plot(kind=\"bar\",color=\"darkred\",ylim=(0.7,0.8))"
   ]
  },
  {
   "cell_type": "markdown",
   "metadata": {},
   "source": [
    "# Neural Net - Predictions and Evaluation"
   ]
  },
  {
   "cell_type": "code",
   "execution_count": 23,
   "metadata": {},
   "outputs": [
    {
     "name": "stdout",
     "output_type": "stream",
     "text": [
      "[[6790    2]\n",
      " [1951    2]]\n",
      "accuracy: 0.77667238422\n",
      "precision: 0.5\n",
      "recall: 0.00102406554019\n",
      "f1 score:  0.00204394481349\n"
     ]
    }
   ],
   "source": [
    "model = MLPClassifier(activation='logistic',solver='lbfgs',hidden_layer_sizes=(100,100),random_state=101)\n",
    "model.fit(x_train, y_train)\n",
    "y_pred = model.predict(x_test)\n",
    "\n",
    "test_calc = pd.concat([pd.DataFrame(y_test).reset_index(drop=True),pd.DataFrame(y_pred).reset_index(drop=True)],axis=1)\n",
    "test_calc.rename(columns={0: 'predicted'}, inplace=True)\n",
    "\n",
    "df_table = confusion_matrix(test_calc['DEF_FLAG'],test_calc['predicted'])\n",
    "print (df_table)\n",
    "\n",
    "print('accuracy:', (df_table[0,0] + df_table[1,1]) / (df_table[0,0] + df_table[0,1] + df_table[1,0] + df_table[1,1]))\n",
    "print ('precision:', df_table[1,1] / (df_table[1,1] + df_table[0,1]))\n",
    "print('recall:', df_table[1,1] / (df_table[1,1] + df_table[1,0]))\n",
    "\n",
    "p = df_table[1,1] / (df_table[1,1] + df_table[0,1])\n",
    "r = df_table[1,1] / (df_table[1,1] + df_table[1,0])\n",
    "print('f1 score: ', (2*p*r)/(p+r))"
   ]
  },
  {
   "cell_type": "markdown",
   "metadata": {},
   "source": [
    "# Logistic Regression"
   ]
  },
  {
   "cell_type": "code",
   "execution_count": 24,
   "metadata": {
    "collapsed": true
   },
   "outputs": [],
   "source": [
    "lr =  LogisticRegression()\n",
    "lr.fit(x_train, y_train)\n",
    "y_pred=lr.predict(x_test)"
   ]
  },
  {
   "cell_type": "code",
   "execution_count": 25,
   "metadata": {},
   "outputs": [
    {
     "name": "stdout",
     "output_type": "stream",
     "text": [
      "[[6777   15]\n",
      " [1942   11]]\n",
      "accuracy: 0.776214979989\n",
      "precision: 0.423076923077\n",
      "recall: 0.00563236047107\n",
      "f1 score:  0.011116725619\n"
     ]
    }
   ],
   "source": [
    "test_calc = pd.concat([pd.DataFrame(y_test).reset_index(drop=True),pd.DataFrame(y_pred).reset_index(drop=True)],axis=1)\n",
    "test_calc.rename(columns={0: 'predicted'}, inplace=True)\n",
    "\n",
    "test_calc['predicted'] = test_calc['predicted'].apply(lambda x: 1 if x > 0.5 else 0)\n",
    "df_table = confusion_matrix(test_calc['DEF_FLAG'],test_calc['predicted'])\n",
    "print (df_table)\n",
    "\n",
    "print('accuracy:', (df_table[0,0] + df_table[1,1]) / (df_table[0,0] + df_table[0,1] + df_table[1,0] + df_table[1,1]))\n",
    "print ('precision:', df_table[1,1] / (df_table[1,1] + df_table[0,1]))\n",
    "print('recall:', df_table[1,1] / (df_table[1,1] + df_table[1,0]))\n",
    "\n",
    "p = df_table[1,1] / (df_table[1,1] + df_table[0,1])\n",
    "r = df_table[1,1] / (df_table[1,1] + df_table[1,0])\n",
    "print('f1 score: ', (2*p*r)/(p+r))"
   ]
  },
  {
   "cell_type": "code",
   "execution_count": null,
   "metadata": {
    "collapsed": true
   },
   "outputs": [],
   "source": []
  }
 ],
 "metadata": {
  "kernelspec": {
   "display_name": "Python 3",
   "language": "python",
   "name": "python3"
  },
  "language_info": {
   "codemirror_mode": {
    "name": "ipython",
    "version": 3
   },
   "file_extension": ".py",
   "mimetype": "text/x-python",
   "name": "python",
   "nbconvert_exporter": "python",
   "pygments_lexer": "ipython3",
   "version": "3.6.2"
  }
 },
 "nbformat": 4,
 "nbformat_minor": 2
}
