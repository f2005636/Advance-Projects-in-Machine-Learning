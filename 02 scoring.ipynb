{
 "cells": [
  {
   "cell_type": "markdown",
   "metadata": {},
   "source": [
    "# Case Study 2: Credit Scoring"
   ]
  },
  {
   "cell_type": "markdown",
   "metadata": {},
   "source": [
    "** The raw dataset contains 4446 rows and 14 columns:**\n",
    "1. Status: credit status\n",
    "2. Seniority: job seniority (years)\n",
    "3. Home: type of home ownership\n",
    "4. Time: time of requested loan\n",
    "5. Age: client's age\n",
    "6. Marital: marital status\n",
    "7. Records: existance of records\n",
    "8. Job: type of job\n",
    "9. Expenses: amount of expenses\n",
    "10. Income: amount of income\n",
    "11. Assets: amount of assets\n",
    "12. Debt: amount of debt\n",
    "13. Amount: amount requested of loan\n",
    "14. Price: price of good"
   ]
  },
  {
   "cell_type": "markdown",
   "metadata": {},
   "source": [
    "** The dataset is available at https://github.com/gastonstat/CreditScoring/blob/master/CleanCreditScoring.csv **"
   ]
  },
  {
   "cell_type": "code",
   "execution_count": 36,
   "metadata": {},
   "outputs": [],
   "source": [
    "import math\n",
    "import numpy as np\n",
    "import pandas as pd\n",
    "from datetime import datetime\n",
    "\n",
    "import seaborn as sns\n",
    "import matplotlib.pyplot as plt\n",
    "%matplotlib inline \n",
    "plt.style.use('seaborn-whitegrid')\n",
    "\n",
    "from sklearn.model_selection import train_test_split\n",
    "from sklearn.metrics import classification_report\n",
    "from sklearn.metrics import confusion_matrix\n",
    "import statsmodels.api as sm"
   ]
  },
  {
   "cell_type": "markdown",
   "metadata": {},
   "source": [
    "# Get the Data"
   ]
  },
  {
   "cell_type": "code",
   "execution_count": 37,
   "metadata": {},
   "outputs": [
    {
     "name": "stdout",
     "output_type": "stream",
     "text": [
      "<class 'pandas.core.frame.DataFrame'>\n",
      "RangeIndex: 4446 entries, 0 to 4445\n",
      "Data columns (total 16 columns):\n",
      "Status        4446 non-null object\n",
      "Seniority     4446 non-null int64\n",
      "Home          4446 non-null object\n",
      "Time          4446 non-null int64\n",
      "Age           4446 non-null int64\n",
      "Marital       4446 non-null object\n",
      "Records       4446 non-null object\n",
      "Job           4446 non-null object\n",
      "Expenses      4446 non-null int64\n",
      "Income        4446 non-null int64\n",
      "Assets        4446 non-null int64\n",
      "Debt          4446 non-null int64\n",
      "Amount        4446 non-null int64\n",
      "Price         4446 non-null int64\n",
      "SavingRate    4446 non-null float64\n",
      "FinRate       4446 non-null float64\n",
      "dtypes: float64(2), int64(9), object(5)\n",
      "memory usage: 555.8+ KB\n"
     ]
    }
   ],
   "source": [
    "df = pd.read_csv('02 scoring.csv',sep=',')\n",
    "df['SavingRate'] = (df['Income'] - df['Expenses']) / df['Income']\n",
    "df['FinRate'] = df['Amount'] / df['Price']\n",
    "df.info()"
   ]
  },
  {
   "cell_type": "code",
   "execution_count": 38,
   "metadata": {},
   "outputs": [
    {
     "data": {
      "text/plain": [
       "<matplotlib.axes._subplots.AxesSubplot at 0x1fd541a24a8>"
      ]
     },
     "execution_count": 38,
     "metadata": {},
     "output_type": "execute_result"
    },
    {
     "data": {
      "image/png": "[encoded data removed]",
      "text/plain": [
       "<matplotlib.figure.Figure at 0x1fd534ffa20>"
      ]
     },
     "metadata": {},
     "output_type": "display_data"
    }
   ],
   "source": [
    "sns.countplot(df['Status'],color=\"darkred\")"
   ]
  },
  {
   "cell_type": "markdown",
   "metadata": {},
   "source": [
    "# Feature Engineering"
   ]
  },
  {
   "cell_type": "code",
   "execution_count": 39,
   "metadata": {},
   "outputs": [
    {
     "data": {
      "text/plain": [
       "<matplotlib.legend.Legend at 0x1fd541f0780>"
      ]
     },
     "execution_count": 39,
     "metadata": {},
     "output_type": "execute_result"
    },
    {
     "data": {
      "image/png": "[encoded data removed]",
      "text/plain": [
       "<matplotlib.figure.Figure at 0x1fd533f7400>"
      ]
     },
     "metadata": {},
     "output_type": "display_data"
    }
   ],
   "source": [
    "#Seniority_bin\n",
    "def bin_x (x): \n",
    "    if x == 0: return \"g. 0\"\n",
    "    elif x == 1: return \"f. 1\"\n",
    "    elif x == 2: return \"e. 2\"\n",
    "    elif x <= 5: return \"d. 3-5\"\n",
    "    elif x <= 11: return \"c. 6-11\"\n",
    "    elif x <= 15: return \"b. 12-15\"\n",
    "    else: return \"a. 16+\"\n",
    "df['Seniority_bin'] = df['Seniority'].apply(bin_x)\n",
    "    \n",
    "x_chart = df.pivot_table(values=['Seniority'], index=['Seniority_bin'], columns=['Status'], aggfunc='count')\n",
    "x_chart = x_chart.apply(lambda c: c / c.sum() * 100, axis=1)\n",
    "x_chart.plot(kind=\"bar\",stacked=True)\n",
    "plt.legend(loc='center left', bbox_to_anchor=(1.0, 0.5))"
   ]
  },
  {
   "cell_type": "code",
   "execution_count": 40,
   "metadata": {},
   "outputs": [
    {
     "data": {
      "text/plain": [
       "<matplotlib.legend.Legend at 0x1fd533ef898>"
      ]
     },
     "execution_count": 40,
     "metadata": {},
     "output_type": "execute_result"
    },
    {
     "data": {
      "image/png": "[encoded data removed]",
      "text/plain": [
       "<matplotlib.figure.Figure at 0x1fd534ffc18>"
      ]
     },
     "metadata": {},
     "output_type": "display_data"
    }
   ],
   "source": [
    "#Home_bin\n",
    "def bin_x (x): \n",
    "    if x in ('ignore','other'): return \"d. ignore / other\"\n",
    "    elif x in ('priv','rent'): return \"c. priv / rent\"\n",
    "    elif x in ('parents'): return \"b. parents\"\n",
    "    else: return \"a. owner\"\n",
    "df['Home_bin'] = df['Home'].apply(bin_x)\n",
    "    \n",
    "x_chart = df.pivot_table(values=['Home'], index=['Home_bin'], columns=['Status'], aggfunc='count')\n",
    "x_chart = x_chart.apply(lambda c: c / c.sum() * 100, axis=1)\n",
    "x_chart.plot(kind=\"bar\",stacked=True)\n",
    "plt.legend(loc='center left', bbox_to_anchor=(1.0, 0.5))"
   ]
  },
  {
   "cell_type": "code",
   "execution_count": 41,
   "metadata": {},
   "outputs": [
    {
     "data": {
      "text/plain": [
       "<matplotlib.legend.Legend at 0x1fd542b0358>"
      ]
     },
     "execution_count": 41,
     "metadata": {},
     "output_type": "execute_result"
    },
    {
     "data": {
      "image/png": "[encoded data removed]",
      "text/plain": [
       "<matplotlib.figure.Figure at 0x1fd542b02b0>"
      ]
     },
     "metadata": {},
     "output_type": "display_data"
    }
   ],
   "source": [
    "#Time_bin\n",
    "def bin_x (x): \n",
    "    if x <= 12: return \"a. 6-12\"\n",
    "    elif x <= 30: return \"b. 18-30\"\n",
    "    else: return \"c. 36+\"\n",
    "df['Time_bin'] = df['Time'].apply(bin_x)\n",
    "    \n",
    "x_chart = df.pivot_table(values=['Time'], index=['Time_bin'], columns=['Status'], aggfunc='count')\n",
    "x_chart = x_chart.apply(lambda c: c / c.sum() * 100, axis=1)\n",
    "x_chart.plot(kind=\"bar\",stacked=True)\n",
    "plt.legend(loc='center left', bbox_to_anchor=(1.0, 0.5))"
   ]
  },
  {
   "cell_type": "code",
   "execution_count": 42,
   "metadata": {},
   "outputs": [
    {
     "data": {
      "text/plain": [
       "<matplotlib.legend.Legend at 0x1fd5438e278>"
      ]
     },
     "execution_count": 42,
     "metadata": {},
     "output_type": "execute_result"
    },
    {
     "data": {
      "image/png": "[encoded data removed]",
      "text/plain": [
       "<matplotlib.figure.Figure at 0x1fd542101d0>"
      ]
     },
     "metadata": {},
     "output_type": "display_data"
    }
   ],
   "source": [
    "#Age_bin\n",
    "def bin_x (x): \n",
    "    if x <= 20: return \"d. 18-20\"\n",
    "    elif x <= 25: return \"c. 21-25\"\n",
    "    elif x <= 50: return \"b. 26-50\"\n",
    "    else: return \"a. 51+\"\n",
    "df['Age_bin'] = df['Age'].apply(bin_x)\n",
    "    \n",
    "x_chart = df.pivot_table(values=['Age'], index=['Age_bin'], columns=['Status'], aggfunc='count')\n",
    "x_chart = x_chart.apply(lambda c: c / c.sum() * 100, axis=1)\n",
    "x_chart.plot(kind=\"bar\",stacked=True)\n",
    "plt.legend(loc='center left', bbox_to_anchor=(1.0, 0.5))"
   ]
  },
  {
   "cell_type": "code",
   "execution_count": 43,
   "metadata": {},
   "outputs": [
    {
     "data": {
      "text/plain": [
       "<matplotlib.legend.Legend at 0x1fd5438e828>"
      ]
     },
     "execution_count": 43,
     "metadata": {},
     "output_type": "execute_result"
    },
    {
     "data": {
      "image/png": "[encoded data removed]",
      "text/plain": [
       "<matplotlib.figure.Figure at 0x1fd543f35c0>"
      ]
     },
     "metadata": {},
     "output_type": "display_data"
    }
   ],
   "source": [
    "#Marital_bin\n",
    "def bin_x (x): \n",
    "    if x in ('married','widow'): return \"a. married / widow\"\n",
    "    elif x in ('single','divorced'): return \"b. single / divorced\"\n",
    "    else: return \"c. separated\"\n",
    "df['Marital_bin'] = df['Marital'].apply(bin_x)\n",
    "    \n",
    "x_chart = df.pivot_table(values=['Marital'], index=['Marital_bin'], columns=['Status'], aggfunc='count')\n",
    "x_chart = x_chart.apply(lambda c: c / c.sum() * 100, axis=1)\n",
    "x_chart.plot(kind=\"bar\",stacked=True)\n",
    "plt.legend(loc='center left', bbox_to_anchor=(1.0, 0.5))"
   ]
  },
  {
   "cell_type": "code",
   "execution_count": 44,
   "metadata": {},
   "outputs": [
    {
     "data": {
      "text/plain": [
       "<matplotlib.legend.Legend at 0x1fd5422c588>"
      ]
     },
     "execution_count": 44,
     "metadata": {},
     "output_type": "execute_result"
    },
    {
     "data": {
      "image/png": "[encoded data removed]",
      "text/plain": [
       "<matplotlib.figure.Figure at 0x1fd544405c0>"
      ]
     },
     "metadata": {},
     "output_type": "display_data"
    }
   ],
   "source": [
    "#Records\n",
    "x_chart = df.pivot_table(values=['Marital'], index=['Records'], columns=['Status'], aggfunc='count')\n",
    "x_chart = x_chart.apply(lambda c: c / c.sum() * 100, axis=1)\n",
    "x_chart.plot(kind=\"bar\",stacked=True)\n",
    "plt.legend(loc='center left', bbox_to_anchor=(1.0, 0.5))"
   ]
  },
  {
   "cell_type": "code",
   "execution_count": 45,
   "metadata": {},
   "outputs": [
    {
     "data": {
      "text/plain": [
       "<matplotlib.legend.Legend at 0x1fd5423fcf8>"
      ]
     },
     "execution_count": 45,
     "metadata": {},
     "output_type": "execute_result"
    },
    {
     "data": {
      "image/png": "[encoded data removed]",
      "text/plain": [
       "<matplotlib.figure.Figure at 0x1fd544a56a0>"
      ]
     },
     "metadata": {},
     "output_type": "display_data"
    }
   ],
   "source": [
    "#Job_bin\n",
    "def bin_x (x): \n",
    "    if x in ('fixed'): return \"a. fixed\"\n",
    "    elif x in ('partime'): return \"c. partime\"\n",
    "    else: return \"b. freelance / others\"\n",
    "df['Job_bin'] = df['Job'].apply(bin_x)\n",
    "    \n",
    "x_chart = df.pivot_table(values=['Job'], index=['Job_bin'], columns=['Status'], aggfunc='count')\n",
    "x_chart = x_chart.apply(lambda c: c / c.sum() * 100, axis=1)\n",
    "x_chart.plot(kind=\"bar\",stacked=True)\n",
    "plt.legend(loc='center left', bbox_to_anchor=(1.0, 0.5))"
   ]
  },
  {
   "cell_type": "code",
   "execution_count": 46,
   "metadata": {},
   "outputs": [
    {
     "data": {
      "text/plain": [
       "<matplotlib.legend.Legend at 0x1fd54519358>"
      ]
     },
     "execution_count": 46,
     "metadata": {},
     "output_type": "execute_result"
    },
    {
     "data": {
      "image/png": "[encoded data removed]",
      "text/plain": [
       "<matplotlib.figure.Figure at 0x1fd54369518>"
      ]
     },
     "metadata": {},
     "output_type": "display_data"
    }
   ],
   "source": [
    "#Income_bin\n",
    "def bin_x (x): \n",
    "    if x <= 75: return \"c. 1-75\"\n",
    "    elif x <= 100: return \"b. 76-100\"\n",
    "    else: return \"a. 101+\"\n",
    "df['Income_bin'] = df['Income'].apply(bin_x)\n",
    "    \n",
    "x_chart = df.pivot_table(values=['Income'], index=['Income_bin'], columns=['Status'], aggfunc='count')\n",
    "x_chart = x_chart.apply(lambda c: c / c.sum() * 100, axis=1)\n",
    "x_chart.plot(kind=\"bar\",stacked=True)\n",
    "plt.legend(loc='center left', bbox_to_anchor=(1.0, 0.5))"
   ]
  },
  {
   "cell_type": "code",
   "execution_count": 47,
   "metadata": {},
   "outputs": [
    {
     "data": {
      "text/plain": [
       "<matplotlib.legend.Legend at 0x1fd5435a6d8>"
      ]
     },
     "execution_count": 47,
     "metadata": {},
     "output_type": "execute_result"
    },
    {
     "data": {
      "image/png": "[encoded data removed]",
      "text/plain": [
       "<matplotlib.figure.Figure at 0x1fd54293470>"
      ]
     },
     "metadata": {},
     "output_type": "display_data"
    }
   ],
   "source": [
    "#SavingRate_bin\n",
    "def bin_x (x): \n",
    "    if x <= 0: return \"e. upto 0.00\"\n",
    "    elif x <= 0.25: return \"d. upto 0.25\"\n",
    "    elif x <= 0.50: return \"c. upto 0.50\"\n",
    "    elif x <= 0.75: return \"b. upto 0.75\"\n",
    "    else: return \"a. more\"\n",
    "df['SavingRate_bin'] = df['SavingRate'].apply(bin_x)\n",
    "    \n",
    "x_chart = df.pivot_table(values=['SavingRate'], index=['SavingRate_bin'], columns=['Status'], aggfunc='count')\n",
    "x_chart = x_chart.apply(lambda c: c / c.sum() * 100, axis=1)\n",
    "x_chart.plot(kind=\"bar\",stacked=True)\n",
    "plt.legend(loc='center left', bbox_to_anchor=(1.0, 0.5))"
   ]
  },
  {
   "cell_type": "code",
   "execution_count": 48,
   "metadata": {},
   "outputs": [
    {
     "data": {
      "text/plain": [
       "<matplotlib.legend.Legend at 0x1fd51a270f0>"
      ]
     },
     "execution_count": 48,
     "metadata": {},
     "output_type": "execute_result"
    },
    {
     "data": {
      "image/png": "[encoded data removed]",
      "text/plain": [
       "<matplotlib.figure.Figure at 0x1fd545a3b00>"
      ]
     },
     "metadata": {},
     "output_type": "display_data"
    }
   ],
   "source": [
    "#Amount_bin\n",
    "def bin_x (x): \n",
    "    if x <= 1500: return \"less than 1500\"\n",
    "    else: return \"more than 1500\"\n",
    "df['Amount_bin'] = df['Amount'].apply(bin_x)\n",
    "    \n",
    "x_chart = df.pivot_table(values=['Amount'], index=['Amount_bin'], columns=['Status'], aggfunc='count')\n",
    "x_chart = x_chart.apply(lambda c: c / c.sum() * 100, axis=1)\n",
    "x_chart.plot(kind=\"bar\",stacked=True)\n",
    "plt.legend(loc='center left', bbox_to_anchor=(1.0, 0.5))"
   ]
  },
  {
   "cell_type": "code",
   "execution_count": 49,
   "metadata": {},
   "outputs": [
    {
     "data": {
      "text/plain": [
       "<matplotlib.legend.Legend at 0x1fd555ef160>"
      ]
     },
     "execution_count": 49,
     "metadata": {},
     "output_type": "execute_result"
    },
    {
     "data": {
      "image/png": "[encoded data removed]",
      "text/plain": [
       "<matplotlib.figure.Figure at 0x1fd544d67b8>"
      ]
     },
     "metadata": {},
     "output_type": "display_data"
    }
   ],
   "source": [
    "#FinRate_bin\n",
    "def bin_x (x): \n",
    "    if x <= 0.50: return \"a. upto 0.50\"\n",
    "    elif x <= 0.75: return \"b. upto 0.75\"\n",
    "    else: return \"c. more\"\n",
    "df['FinRate_bin'] = df['FinRate'].apply(bin_x)\n",
    "    \n",
    "x_chart = df.pivot_table(values=['FinRate'], index=['FinRate_bin'], columns=['Status'], aggfunc='count')\n",
    "x_chart = x_chart.apply(lambda c: c / c.sum() * 100, axis=1)\n",
    "x_chart.plot(kind=\"bar\",stacked=True)\n",
    "plt.legend(loc='center left', bbox_to_anchor=(1.0, 0.5))"
   ]
  },
  {
   "cell_type": "markdown",
   "metadata": {},
   "source": [
    "# WOE and IV"
   ]
  },
  {
   "cell_type": "markdown",
   "metadata": {},
   "source": [
    "* IV more than 0.5: Very Strong \n",
    "* IV between 0.5 and 0.3: Strong \n",
    "* IV between 0.3 and 0.1: Medium\n",
    "* IV less than 0.1: Weak    "
   ]
  },
  {
   "cell_type": "code",
   "execution_count": 50,
   "metadata": {},
   "outputs": [
    {
     "name": "stdout",
     "output_type": "stream",
     "text": [
      "IV:  0.243\n"
     ]
    },
    {
     "data": {
      "text/html": [
       "<div>\n",
       "<style>\n",
       "    .dataframe thead tr:only-child th {\n",
       "        text-align: right;\n",
       "    }\n",
       "\n",
       "    .dataframe thead th {\n",
       "        text-align: left;\n",
       "    }\n",
       "\n",
       "    .dataframe tbody tr th {\n",
       "        vertical-align: top;\n",
       "    }\n",
       "</style>\n",
       "<table border=\"1\" class=\"dataframe\">\n",
       "  <thead>\n",
       "    <tr style=\"text-align: right;\">\n",
       "      <th>Status</th>\n",
       "      <th>bad</th>\n",
       "      <th>good</th>\n",
       "      <th>total</th>\n",
       "      <th>%bad</th>\n",
       "      <th>%good</th>\n",
       "      <th>bad rate</th>\n",
       "      <th>WOE</th>\n",
       "      <th>IV</th>\n",
       "    </tr>\n",
       "    <tr>\n",
       "      <th>Home_bin</th>\n",
       "      <th></th>\n",
       "      <th></th>\n",
       "      <th></th>\n",
       "      <th></th>\n",
       "      <th></th>\n",
       "      <th></th>\n",
       "      <th></th>\n",
       "      <th></th>\n",
       "    </tr>\n",
       "  </thead>\n",
       "  <tbody>\n",
       "    <tr>\n",
       "      <th>a. owner</th>\n",
       "      <td>390</td>\n",
       "      <td>1716</td>\n",
       "      <td>2106</td>\n",
       "      <td>0.312250</td>\n",
       "      <td>0.536753</td>\n",
       "      <td>0.185185</td>\n",
       "      <td>-0.541735</td>\n",
       "      <td>0.121621</td>\n",
       "    </tr>\n",
       "    <tr>\n",
       "      <th>b. parents</th>\n",
       "      <td>232</td>\n",
       "      <td>550</td>\n",
       "      <td>782</td>\n",
       "      <td>0.185749</td>\n",
       "      <td>0.172036</td>\n",
       "      <td>0.296675</td>\n",
       "      <td>0.076689</td>\n",
       "      <td>0.001052</td>\n",
       "    </tr>\n",
       "    <tr>\n",
       "      <th>c. priv / rent</th>\n",
       "      <td>472</td>\n",
       "      <td>747</td>\n",
       "      <td>1219</td>\n",
       "      <td>0.377902</td>\n",
       "      <td>0.233657</td>\n",
       "      <td>0.387203</td>\n",
       "      <td>0.480783</td>\n",
       "      <td>0.069351</td>\n",
       "    </tr>\n",
       "    <tr>\n",
       "      <th>d. ignore / other</th>\n",
       "      <td>155</td>\n",
       "      <td>184</td>\n",
       "      <td>339</td>\n",
       "      <td>0.124099</td>\n",
       "      <td>0.057554</td>\n",
       "      <td>0.457227</td>\n",
       "      <td>0.768359</td>\n",
       "      <td>0.051131</td>\n",
       "    </tr>\n",
       "  </tbody>\n",
       "</table>\n",
       "</div>"
      ],
      "text/plain": [
       "Status             bad  good  total      %bad     %good  bad rate       WOE  \\\n",
       "Home_bin                                                                      \n",
       "a. owner           390  1716   2106  0.312250  0.536753  0.185185 -0.541735   \n",
       "b. parents         232   550    782  0.185749  0.172036  0.296675  0.076689   \n",
       "c. priv / rent     472   747   1219  0.377902  0.233657  0.387203  0.480783   \n",
       "d. ignore / other  155   184    339  0.124099  0.057554  0.457227  0.768359   \n",
       "\n",
       "Status                   IV  \n",
       "Home_bin                     \n",
       "a. owner           0.121621  \n",
       "b. parents         0.001052  \n",
       "c. priv / rent     0.069351  \n",
       "d. ignore / other  0.051131  "
      ]
     },
     "execution_count": 50,
     "metadata": {},
     "output_type": "execute_result"
    }
   ],
   "source": [
    "#Home_bin\n",
    "y_chart = df.pivot_table(values=['Price'], index=['Home_bin'], columns=['Status'], aggfunc='count')\n",
    "y_chart = y_chart['Price'].copy()\n",
    "y_chart['total'] = y_chart['bad'] + y_chart['good']\n",
    "y_chart['%bad'] = y_chart['bad'] / np.sum(y_chart['bad'])\n",
    "y_chart['%good'] = y_chart['good'] / np.sum(y_chart['good'])\n",
    "y_chart['bad rate'] = y_chart['bad'] / y_chart['total']\n",
    "y_chart['WOE'] = np.log(y_chart['%bad'] / y_chart['%good'])\n",
    "y_chart['IV'] = (y_chart['%bad'] - y_chart['%good']) * y_chart['WOE']\n",
    "\n",
    "print(\"IV: \",round(np.sum(y_chart['IV']),3))\n",
    "y_chart"
   ]
  },
  {
   "cell_type": "code",
   "execution_count": 51,
   "metadata": {},
   "outputs": [
    {
     "name": "stdout",
     "output_type": "stream",
     "text": [
      "IV:  0.519\n"
     ]
    },
    {
     "data": {
      "text/html": [
       "<div>\n",
       "<style>\n",
       "    .dataframe thead tr:only-child th {\n",
       "        text-align: right;\n",
       "    }\n",
       "\n",
       "    .dataframe thead th {\n",
       "        text-align: left;\n",
       "    }\n",
       "\n",
       "    .dataframe tbody tr th {\n",
       "        vertical-align: top;\n",
       "    }\n",
       "</style>\n",
       "<table border=\"1\" class=\"dataframe\">\n",
       "  <thead>\n",
       "    <tr style=\"text-align: right;\">\n",
       "      <th>Status</th>\n",
       "      <th>bad</th>\n",
       "      <th>good</th>\n",
       "      <th>total</th>\n",
       "      <th>%bad</th>\n",
       "      <th>%good</th>\n",
       "      <th>bad rate</th>\n",
       "      <th>WOE</th>\n",
       "      <th>IV</th>\n",
       "    </tr>\n",
       "    <tr>\n",
       "      <th>Seniority_bin</th>\n",
       "      <th></th>\n",
       "      <th></th>\n",
       "      <th></th>\n",
       "      <th></th>\n",
       "      <th></th>\n",
       "      <th></th>\n",
       "      <th></th>\n",
       "      <th></th>\n",
       "    </tr>\n",
       "  </thead>\n",
       "  <tbody>\n",
       "    <tr>\n",
       "      <th>a. 16+</th>\n",
       "      <td>71</td>\n",
       "      <td>650</td>\n",
       "      <td>721</td>\n",
       "      <td>0.056845</td>\n",
       "      <td>0.203316</td>\n",
       "      <td>0.098474</td>\n",
       "      <td>-1.274423</td>\n",
       "      <td>0.186665</td>\n",
       "    </tr>\n",
       "    <tr>\n",
       "      <th>b. 12-15</th>\n",
       "      <td>78</td>\n",
       "      <td>419</td>\n",
       "      <td>497</td>\n",
       "      <td>0.062450</td>\n",
       "      <td>0.131060</td>\n",
       "      <td>0.156942</td>\n",
       "      <td>-0.741292</td>\n",
       "      <td>0.050860</td>\n",
       "    </tr>\n",
       "    <tr>\n",
       "      <th>c. 6-11</th>\n",
       "      <td>184</td>\n",
       "      <td>715</td>\n",
       "      <td>899</td>\n",
       "      <td>0.147318</td>\n",
       "      <td>0.223647</td>\n",
       "      <td>0.204672</td>\n",
       "      <td>-0.417477</td>\n",
       "      <td>0.031866</td>\n",
       "    </tr>\n",
       "    <tr>\n",
       "      <th>d. 3-5</th>\n",
       "      <td>235</td>\n",
       "      <td>598</td>\n",
       "      <td>833</td>\n",
       "      <td>0.188151</td>\n",
       "      <td>0.187050</td>\n",
       "      <td>0.282113</td>\n",
       "      <td>0.005864</td>\n",
       "      <td>0.000006</td>\n",
       "    </tr>\n",
       "    <tr>\n",
       "      <th>e. 2</th>\n",
       "      <td>172</td>\n",
       "      <td>282</td>\n",
       "      <td>454</td>\n",
       "      <td>0.137710</td>\n",
       "      <td>0.088208</td>\n",
       "      <td>0.378855</td>\n",
       "      <td>0.445457</td>\n",
       "      <td>0.022051</td>\n",
       "    </tr>\n",
       "    <tr>\n",
       "      <th>f. 1</th>\n",
       "      <td>222</td>\n",
       "      <td>288</td>\n",
       "      <td>510</td>\n",
       "      <td>0.177742</td>\n",
       "      <td>0.090084</td>\n",
       "      <td>0.435294</td>\n",
       "      <td>0.679587</td>\n",
       "      <td>0.059571</td>\n",
       "    </tr>\n",
       "    <tr>\n",
       "      <th>g. 0</th>\n",
       "      <td>287</td>\n",
       "      <td>245</td>\n",
       "      <td>532</td>\n",
       "      <td>0.229784</td>\n",
       "      <td>0.076634</td>\n",
       "      <td>0.539474</td>\n",
       "      <td>1.098094</td>\n",
       "      <td>0.168172</td>\n",
       "    </tr>\n",
       "  </tbody>\n",
       "</table>\n",
       "</div>"
      ],
      "text/plain": [
       "Status         bad  good  total      %bad     %good  bad rate       WOE  \\\n",
       "Seniority_bin                                                             \n",
       "a. 16+          71   650    721  0.056845  0.203316  0.098474 -1.274423   \n",
       "b. 12-15        78   419    497  0.062450  0.131060  0.156942 -0.741292   \n",
       "c. 6-11        184   715    899  0.147318  0.223647  0.204672 -0.417477   \n",
       "d. 3-5         235   598    833  0.188151  0.187050  0.282113  0.005864   \n",
       "e. 2           172   282    454  0.137710  0.088208  0.378855  0.445457   \n",
       "f. 1           222   288    510  0.177742  0.090084  0.435294  0.679587   \n",
       "g. 0           287   245    532  0.229784  0.076634  0.539474  1.098094   \n",
       "\n",
       "Status               IV  \n",
       "Seniority_bin            \n",
       "a. 16+         0.186665  \n",
       "b. 12-15       0.050860  \n",
       "c. 6-11        0.031866  \n",
       "d. 3-5         0.000006  \n",
       "e. 2           0.022051  \n",
       "f. 1           0.059571  \n",
       "g. 0           0.168172  "
      ]
     },
     "execution_count": 51,
     "metadata": {},
     "output_type": "execute_result"
    }
   ],
   "source": [
    "#Seniority_bin\n",
    "y_chart = df.pivot_table(values=['Price'], index=['Seniority_bin'], columns=['Status'], aggfunc='count')\n",
    "y_chart = y_chart['Price'].copy()\n",
    "y_chart['total'] = y_chart['bad'] + y_chart['good']\n",
    "y_chart['%bad'] = y_chart['bad'] / np.sum(y_chart['bad'])\n",
    "y_chart['%good'] = y_chart['good'] / np.sum(y_chart['good'])\n",
    "y_chart['bad rate'] = y_chart['bad'] / y_chart['total']\n",
    "y_chart['WOE'] = np.log(y_chart['%bad'] / y_chart['%good'])\n",
    "y_chart['IV'] = (y_chart['%bad'] - y_chart['%good']) * y_chart['WOE']\n",
    "\n",
    "print(\"IV: \",round(np.sum(y_chart['IV']),3))\n",
    "y_chart"
   ]
  },
  {
   "cell_type": "code",
   "execution_count": 52,
   "metadata": {},
   "outputs": [
    {
     "name": "stdout",
     "output_type": "stream",
     "text": [
      "IV:  0.082\n"
     ]
    },
    {
     "data": {
      "text/html": [
       "<div>\n",
       "<style>\n",
       "    .dataframe thead tr:only-child th {\n",
       "        text-align: right;\n",
       "    }\n",
       "\n",
       "    .dataframe thead th {\n",
       "        text-align: left;\n",
       "    }\n",
       "\n",
       "    .dataframe tbody tr th {\n",
       "        vertical-align: top;\n",
       "    }\n",
       "</style>\n",
       "<table border=\"1\" class=\"dataframe\">\n",
       "  <thead>\n",
       "    <tr style=\"text-align: right;\">\n",
       "      <th>Status</th>\n",
       "      <th>bad</th>\n",
       "      <th>good</th>\n",
       "      <th>total</th>\n",
       "      <th>%bad</th>\n",
       "      <th>%good</th>\n",
       "      <th>bad rate</th>\n",
       "      <th>WOE</th>\n",
       "      <th>IV</th>\n",
       "    </tr>\n",
       "    <tr>\n",
       "      <th>Time_bin</th>\n",
       "      <th></th>\n",
       "      <th></th>\n",
       "      <th></th>\n",
       "      <th></th>\n",
       "      <th></th>\n",
       "      <th></th>\n",
       "      <th></th>\n",
       "      <th></th>\n",
       "    </tr>\n",
       "  </thead>\n",
       "  <tbody>\n",
       "    <tr>\n",
       "      <th>a. 6-12</th>\n",
       "      <td>19</td>\n",
       "      <td>161</td>\n",
       "      <td>180</td>\n",
       "      <td>0.015212</td>\n",
       "      <td>0.05036</td>\n",
       "      <td>0.105556</td>\n",
       "      <td>-1.197096</td>\n",
       "      <td>0.042075</td>\n",
       "    </tr>\n",
       "    <tr>\n",
       "      <th>b. 18-30</th>\n",
       "      <td>89</td>\n",
       "      <td>401</td>\n",
       "      <td>490</td>\n",
       "      <td>0.071257</td>\n",
       "      <td>0.12543</td>\n",
       "      <td>0.181633</td>\n",
       "      <td>-0.565455</td>\n",
       "      <td>0.030632</td>\n",
       "    </tr>\n",
       "    <tr>\n",
       "      <th>c. 36+</th>\n",
       "      <td>1141</td>\n",
       "      <td>2635</td>\n",
       "      <td>3776</td>\n",
       "      <td>0.913531</td>\n",
       "      <td>0.82421</td>\n",
       "      <td>0.302172</td>\n",
       "      <td>0.102892</td>\n",
       "      <td>0.009190</td>\n",
       "    </tr>\n",
       "  </tbody>\n",
       "</table>\n",
       "</div>"
      ],
      "text/plain": [
       "Status     bad  good  total      %bad    %good  bad rate       WOE        IV\n",
       "Time_bin                                                                    \n",
       "a. 6-12     19   161    180  0.015212  0.05036  0.105556 -1.197096  0.042075\n",
       "b. 18-30    89   401    490  0.071257  0.12543  0.181633 -0.565455  0.030632\n",
       "c. 36+    1141  2635   3776  0.913531  0.82421  0.302172  0.102892  0.009190"
      ]
     },
     "execution_count": 52,
     "metadata": {},
     "output_type": "execute_result"
    }
   ],
   "source": [
    "#Time_bin\n",
    "y_chart = df.pivot_table(values=['Price'], index=['Time_bin'], columns=['Status'], aggfunc='count')\n",
    "y_chart = y_chart['Price'].copy()\n",
    "y_chart['total'] = y_chart['bad'] + y_chart['good']\n",
    "y_chart['%bad'] = y_chart['bad'] / np.sum(y_chart['bad'])\n",
    "y_chart['%good'] = y_chart['good'] / np.sum(y_chart['good'])\n",
    "y_chart['bad rate'] = y_chart['bad'] / y_chart['total']\n",
    "y_chart['WOE'] = np.log(y_chart['%bad'] / y_chart['%good'])\n",
    "y_chart['IV'] = (y_chart['%bad'] - y_chart['%good']) * y_chart['WOE']\n",
    "\n",
    "print(\"IV: \",round(np.sum(y_chart['IV']),3))\n",
    "y_chart"
   ]
  },
  {
   "cell_type": "code",
   "execution_count": 53,
   "metadata": {},
   "outputs": [
    {
     "name": "stdout",
     "output_type": "stream",
     "text": [
      "IV:  0.065\n"
     ]
    },
    {
     "data": {
      "text/html": [
       "<div>\n",
       "<style>\n",
       "    .dataframe thead tr:only-child th {\n",
       "        text-align: right;\n",
       "    }\n",
       "\n",
       "    .dataframe thead th {\n",
       "        text-align: left;\n",
       "    }\n",
       "\n",
       "    .dataframe tbody tr th {\n",
       "        vertical-align: top;\n",
       "    }\n",
       "</style>\n",
       "<table border=\"1\" class=\"dataframe\">\n",
       "  <thead>\n",
       "    <tr style=\"text-align: right;\">\n",
       "      <th>Status</th>\n",
       "      <th>bad</th>\n",
       "      <th>good</th>\n",
       "      <th>total</th>\n",
       "      <th>%bad</th>\n",
       "      <th>%good</th>\n",
       "      <th>bad rate</th>\n",
       "      <th>WOE</th>\n",
       "      <th>IV</th>\n",
       "    </tr>\n",
       "    <tr>\n",
       "      <th>Age_bin</th>\n",
       "      <th></th>\n",
       "      <th></th>\n",
       "      <th></th>\n",
       "      <th></th>\n",
       "      <th></th>\n",
       "      <th></th>\n",
       "      <th></th>\n",
       "      <th></th>\n",
       "    </tr>\n",
       "  </thead>\n",
       "  <tbody>\n",
       "    <tr>\n",
       "      <th>a. 51+</th>\n",
       "      <td>123</td>\n",
       "      <td>528</td>\n",
       "      <td>651</td>\n",
       "      <td>0.098479</td>\n",
       "      <td>0.165155</td>\n",
       "      <td>0.188940</td>\n",
       "      <td>-0.517042</td>\n",
       "      <td>0.034474</td>\n",
       "    </tr>\n",
       "    <tr>\n",
       "      <th>b. 26-50</th>\n",
       "      <td>868</td>\n",
       "      <td>2228</td>\n",
       "      <td>3096</td>\n",
       "      <td>0.694956</td>\n",
       "      <td>0.696903</td>\n",
       "      <td>0.280362</td>\n",
       "      <td>-0.002798</td>\n",
       "      <td>0.000005</td>\n",
       "    </tr>\n",
       "    <tr>\n",
       "      <th>c. 21-25</th>\n",
       "      <td>220</td>\n",
       "      <td>394</td>\n",
       "      <td>614</td>\n",
       "      <td>0.176141</td>\n",
       "      <td>0.123241</td>\n",
       "      <td>0.358306</td>\n",
       "      <td>0.357146</td>\n",
       "      <td>0.018893</td>\n",
       "    </tr>\n",
       "    <tr>\n",
       "      <th>d. 18-20</th>\n",
       "      <td>38</td>\n",
       "      <td>47</td>\n",
       "      <td>85</td>\n",
       "      <td>0.030424</td>\n",
       "      <td>0.014701</td>\n",
       "      <td>0.447059</td>\n",
       "      <td>0.727308</td>\n",
       "      <td>0.011436</td>\n",
       "    </tr>\n",
       "  </tbody>\n",
       "</table>\n",
       "</div>"
      ],
      "text/plain": [
       "Status    bad  good  total      %bad     %good  bad rate       WOE        IV\n",
       "Age_bin                                                                     \n",
       "a. 51+    123   528    651  0.098479  0.165155  0.188940 -0.517042  0.034474\n",
       "b. 26-50  868  2228   3096  0.694956  0.696903  0.280362 -0.002798  0.000005\n",
       "c. 21-25  220   394    614  0.176141  0.123241  0.358306  0.357146  0.018893\n",
       "d. 18-20   38    47     85  0.030424  0.014701  0.447059  0.727308  0.011436"
      ]
     },
     "execution_count": 53,
     "metadata": {},
     "output_type": "execute_result"
    }
   ],
   "source": [
    "#Age_bin\n",
    "y_chart = df.pivot_table(values=['Price'], index=['Age_bin'], columns=['Status'], aggfunc='count')\n",
    "y_chart = y_chart['Price'].copy()\n",
    "y_chart['total'] = y_chart['bad'] + y_chart['good']\n",
    "y_chart['%bad'] = y_chart['bad'] / np.sum(y_chart['bad'])\n",
    "y_chart['%good'] = y_chart['good'] / np.sum(y_chart['good'])\n",
    "y_chart['bad rate'] = y_chart['bad'] / y_chart['total']\n",
    "y_chart['WOE'] = np.log(y_chart['%bad'] / y_chart['%good'])\n",
    "y_chart['IV'] = (y_chart['%bad'] - y_chart['%good']) * y_chart['WOE']\n",
    "\n",
    "print(\"IV: \",round(np.sum(y_chart['IV']),3))\n",
    "y_chart"
   ]
  },
  {
   "cell_type": "code",
   "execution_count": 54,
   "metadata": {},
   "outputs": [
    {
     "name": "stdout",
     "output_type": "stream",
     "text": [
      "IV:  0.056\n"
     ]
    },
    {
     "data": {
      "text/html": [
       "<div>\n",
       "<style>\n",
       "    .dataframe thead tr:only-child th {\n",
       "        text-align: right;\n",
       "    }\n",
       "\n",
       "    .dataframe thead th {\n",
       "        text-align: left;\n",
       "    }\n",
       "\n",
       "    .dataframe tbody tr th {\n",
       "        vertical-align: top;\n",
       "    }\n",
       "</style>\n",
       "<table border=\"1\" class=\"dataframe\">\n",
       "  <thead>\n",
       "    <tr style=\"text-align: right;\">\n",
       "      <th>Status</th>\n",
       "      <th>bad</th>\n",
       "      <th>good</th>\n",
       "      <th>total</th>\n",
       "      <th>%bad</th>\n",
       "      <th>%good</th>\n",
       "      <th>bad rate</th>\n",
       "      <th>WOE</th>\n",
       "      <th>IV</th>\n",
       "    </tr>\n",
       "    <tr>\n",
       "      <th>Marital_bin</th>\n",
       "      <th></th>\n",
       "      <th></th>\n",
       "      <th></th>\n",
       "      <th></th>\n",
       "      <th></th>\n",
       "      <th></th>\n",
       "      <th></th>\n",
       "      <th></th>\n",
       "    </tr>\n",
       "  </thead>\n",
       "  <tbody>\n",
       "    <tr>\n",
       "      <th>a. married / widow</th>\n",
       "      <td>845</td>\n",
       "      <td>2460</td>\n",
       "      <td>3305</td>\n",
       "      <td>0.676541</td>\n",
       "      <td>0.769471</td>\n",
       "      <td>0.255673</td>\n",
       "      <td>-0.128710</td>\n",
       "      <td>0.011961</td>\n",
       "    </tr>\n",
       "    <tr>\n",
       "      <th>b. single / divorced</th>\n",
       "      <td>340</td>\n",
       "      <td>671</td>\n",
       "      <td>1011</td>\n",
       "      <td>0.272218</td>\n",
       "      <td>0.209884</td>\n",
       "      <td>0.336301</td>\n",
       "      <td>0.260046</td>\n",
       "      <td>0.016210</td>\n",
       "    </tr>\n",
       "    <tr>\n",
       "      <th>c. separated</th>\n",
       "      <td>64</td>\n",
       "      <td>66</td>\n",
       "      <td>130</td>\n",
       "      <td>0.051241</td>\n",
       "      <td>0.020644</td>\n",
       "      <td>0.492308</td>\n",
       "      <td>0.909098</td>\n",
       "      <td>0.027815</td>\n",
       "    </tr>\n",
       "  </tbody>\n",
       "</table>\n",
       "</div>"
      ],
      "text/plain": [
       "Status                bad  good  total      %bad     %good  bad rate  \\\n",
       "Marital_bin                                                            \n",
       "a. married / widow    845  2460   3305  0.676541  0.769471  0.255673   \n",
       "b. single / divorced  340   671   1011  0.272218  0.209884  0.336301   \n",
       "c. separated           64    66    130  0.051241  0.020644  0.492308   \n",
       "\n",
       "Status                     WOE        IV  \n",
       "Marital_bin                               \n",
       "a. married / widow   -0.128710  0.011961  \n",
       "b. single / divorced  0.260046  0.016210  \n",
       "c. separated          0.909098  0.027815  "
      ]
     },
     "execution_count": 54,
     "metadata": {},
     "output_type": "execute_result"
    }
   ],
   "source": [
    "#Marital_bin\n",
    "y_chart = df.pivot_table(values=['Price'], index=['Marital_bin'], columns=['Status'], aggfunc='count')\n",
    "y_chart = y_chart['Price'].copy()\n",
    "y_chart['total'] = y_chart['bad'] + y_chart['good']\n",
    "y_chart['%bad'] = y_chart['bad'] / np.sum(y_chart['bad'])\n",
    "y_chart['%good'] = y_chart['good'] / np.sum(y_chart['good'])\n",
    "y_chart['bad rate'] = y_chart['bad'] / y_chart['total']\n",
    "y_chart['WOE'] = np.log(y_chart['%bad'] / y_chart['%good'])\n",
    "y_chart['IV'] = (y_chart['%bad'] - y_chart['%good']) * y_chart['WOE']\n",
    "\n",
    "print(\"IV: \",round(np.sum(y_chart['IV']),3))\n",
    "y_chart"
   ]
  },
  {
   "cell_type": "code",
   "execution_count": 55,
   "metadata": {},
   "outputs": [
    {
     "name": "stdout",
     "output_type": "stream",
     "text": [
      "IV:  0.341\n"
     ]
    },
    {
     "data": {
      "text/html": [
       "<div>\n",
       "<style>\n",
       "    .dataframe thead tr:only-child th {\n",
       "        text-align: right;\n",
       "    }\n",
       "\n",
       "    .dataframe thead th {\n",
       "        text-align: left;\n",
       "    }\n",
       "\n",
       "    .dataframe tbody tr th {\n",
       "        vertical-align: top;\n",
       "    }\n",
       "</style>\n",
       "<table border=\"1\" class=\"dataframe\">\n",
       "  <thead>\n",
       "    <tr style=\"text-align: right;\">\n",
       "      <th>Status</th>\n",
       "      <th>bad</th>\n",
       "      <th>good</th>\n",
       "      <th>total</th>\n",
       "      <th>%bad</th>\n",
       "      <th>%good</th>\n",
       "      <th>bad rate</th>\n",
       "      <th>WOE</th>\n",
       "      <th>IV</th>\n",
       "    </tr>\n",
       "    <tr>\n",
       "      <th>Records</th>\n",
       "      <th></th>\n",
       "      <th></th>\n",
       "      <th></th>\n",
       "      <th></th>\n",
       "      <th></th>\n",
       "      <th></th>\n",
       "      <th></th>\n",
       "      <th></th>\n",
       "    </tr>\n",
       "  </thead>\n",
       "  <tbody>\n",
       "    <tr>\n",
       "      <th>no_rec</th>\n",
       "      <td>823</td>\n",
       "      <td>2854</td>\n",
       "      <td>3677</td>\n",
       "      <td>0.658927</td>\n",
       "      <td>0.892712</td>\n",
       "      <td>0.223824</td>\n",
       "      <td>-0.303651</td>\n",
       "      <td>0.070989</td>\n",
       "    </tr>\n",
       "    <tr>\n",
       "      <th>yes_rec</th>\n",
       "      <td>426</td>\n",
       "      <td>343</td>\n",
       "      <td>769</td>\n",
       "      <td>0.341073</td>\n",
       "      <td>0.107288</td>\n",
       "      <td>0.553966</td>\n",
       "      <td>1.156579</td>\n",
       "      <td>0.270390</td>\n",
       "    </tr>\n",
       "  </tbody>\n",
       "</table>\n",
       "</div>"
      ],
      "text/plain": [
       "Status   bad  good  total      %bad     %good  bad rate       WOE        IV\n",
       "Records                                                                    \n",
       "no_rec   823  2854   3677  0.658927  0.892712  0.223824 -0.303651  0.070989\n",
       "yes_rec  426   343    769  0.341073  0.107288  0.553966  1.156579  0.270390"
      ]
     },
     "execution_count": 55,
     "metadata": {},
     "output_type": "execute_result"
    }
   ],
   "source": [
    "#Records\n",
    "y_chart = df.pivot_table(values=['Price'], index=['Records'], columns=['Status'], aggfunc='count')\n",
    "y_chart = y_chart['Price'].copy()\n",
    "y_chart['total'] = y_chart['bad'] + y_chart['good']\n",
    "y_chart['%bad'] = y_chart['bad'] / np.sum(y_chart['bad'])\n",
    "y_chart['%good'] = y_chart['good'] / np.sum(y_chart['good'])\n",
    "y_chart['bad rate'] = y_chart['bad'] / y_chart['total']\n",
    "y_chart['WOE'] = np.log(y_chart['%bad'] / y_chart['%good'])\n",
    "y_chart['IV'] = (y_chart['%bad'] - y_chart['%good']) * y_chart['WOE']\n",
    "\n",
    "print(\"IV: \",round(np.sum(y_chart['IV']),3))\n",
    "y_chart"
   ]
  },
  {
   "cell_type": "code",
   "execution_count": 56,
   "metadata": {},
   "outputs": [
    {
     "name": "stdout",
     "output_type": "stream",
     "text": [
      "IV:  0.325\n"
     ]
    },
    {
     "data": {
      "text/html": [
       "<div>\n",
       "<style>\n",
       "    .dataframe thead tr:only-child th {\n",
       "        text-align: right;\n",
       "    }\n",
       "\n",
       "    .dataframe thead th {\n",
       "        text-align: left;\n",
       "    }\n",
       "\n",
       "    .dataframe tbody tr th {\n",
       "        vertical-align: top;\n",
       "    }\n",
       "</style>\n",
       "<table border=\"1\" class=\"dataframe\">\n",
       "  <thead>\n",
       "    <tr style=\"text-align: right;\">\n",
       "      <th>Status</th>\n",
       "      <th>bad</th>\n",
       "      <th>good</th>\n",
       "      <th>total</th>\n",
       "      <th>%bad</th>\n",
       "      <th>%good</th>\n",
       "      <th>bad rate</th>\n",
       "      <th>WOE</th>\n",
       "      <th>IV</th>\n",
       "    </tr>\n",
       "    <tr>\n",
       "      <th>Job_bin</th>\n",
       "      <th></th>\n",
       "      <th></th>\n",
       "      <th></th>\n",
       "      <th></th>\n",
       "      <th></th>\n",
       "      <th></th>\n",
       "      <th></th>\n",
       "      <th></th>\n",
       "    </tr>\n",
       "  </thead>\n",
       "  <tbody>\n",
       "    <tr>\n",
       "      <th>a. fixed</th>\n",
       "      <td>580</td>\n",
       "      <td>2223</td>\n",
       "      <td>2803</td>\n",
       "      <td>0.464371</td>\n",
       "      <td>0.695339</td>\n",
       "      <td>0.206921</td>\n",
       "      <td>-0.403715</td>\n",
       "      <td>0.093245</td>\n",
       "    </tr>\n",
       "    <tr>\n",
       "      <th>b. freelance / others</th>\n",
       "      <td>399</td>\n",
       "      <td>793</td>\n",
       "      <td>1192</td>\n",
       "      <td>0.319456</td>\n",
       "      <td>0.248045</td>\n",
       "      <td>0.334732</td>\n",
       "      <td>0.253008</td>\n",
       "      <td>0.018067</td>\n",
       "    </tr>\n",
       "    <tr>\n",
       "      <th>c. partime</th>\n",
       "      <td>270</td>\n",
       "      <td>181</td>\n",
       "      <td>451</td>\n",
       "      <td>0.216173</td>\n",
       "      <td>0.056616</td>\n",
       "      <td>0.598670</td>\n",
       "      <td>1.339795</td>\n",
       "      <td>0.213774</td>\n",
       "    </tr>\n",
       "  </tbody>\n",
       "</table>\n",
       "</div>"
      ],
      "text/plain": [
       "Status                 bad  good  total      %bad     %good  bad rate  \\\n",
       "Job_bin                                                                 \n",
       "a. fixed               580  2223   2803  0.464371  0.695339  0.206921   \n",
       "b. freelance / others  399   793   1192  0.319456  0.248045  0.334732   \n",
       "c. partime             270   181    451  0.216173  0.056616  0.598670   \n",
       "\n",
       "Status                      WOE        IV  \n",
       "Job_bin                                    \n",
       "a. fixed              -0.403715  0.093245  \n",
       "b. freelance / others  0.253008  0.018067  \n",
       "c. partime             1.339795  0.213774  "
      ]
     },
     "execution_count": 56,
     "metadata": {},
     "output_type": "execute_result"
    }
   ],
   "source": [
    "#Job_bin\n",
    "y_chart = df.pivot_table(values=['Price'], index=['Job_bin'], columns=['Status'], aggfunc='count')\n",
    "y_chart = y_chart['Price'].copy()\n",
    "y_chart['total'] = y_chart['bad'] + y_chart['good']\n",
    "y_chart['%bad'] = y_chart['bad'] / np.sum(y_chart['bad'])\n",
    "y_chart['%good'] = y_chart['good'] / np.sum(y_chart['good'])\n",
    "y_chart['bad rate'] = y_chart['bad'] / y_chart['total']\n",
    "y_chart['WOE'] = np.log(y_chart['%bad'] / y_chart['%good'])\n",
    "y_chart['IV'] = (y_chart['%bad'] - y_chart['%good']) * y_chart['WOE']\n",
    "\n",
    "print(\"IV: \",round(np.sum(y_chart['IV']),3))\n",
    "y_chart"
   ]
  },
  {
   "cell_type": "code",
   "execution_count": 57,
   "metadata": {},
   "outputs": [
    {
     "name": "stdout",
     "output_type": "stream",
     "text": [
      "IV:  0.201\n"
     ]
    },
    {
     "data": {
      "text/html": [
       "<div>\n",
       "<style>\n",
       "    .dataframe thead tr:only-child th {\n",
       "        text-align: right;\n",
       "    }\n",
       "\n",
       "    .dataframe thead th {\n",
       "        text-align: left;\n",
       "    }\n",
       "\n",
       "    .dataframe tbody tr th {\n",
       "        vertical-align: top;\n",
       "    }\n",
       "</style>\n",
       "<table border=\"1\" class=\"dataframe\">\n",
       "  <thead>\n",
       "    <tr style=\"text-align: right;\">\n",
       "      <th>Status</th>\n",
       "      <th>bad</th>\n",
       "      <th>good</th>\n",
       "      <th>total</th>\n",
       "      <th>%bad</th>\n",
       "      <th>%good</th>\n",
       "      <th>bad rate</th>\n",
       "      <th>WOE</th>\n",
       "      <th>IV</th>\n",
       "    </tr>\n",
       "    <tr>\n",
       "      <th>Income_bin</th>\n",
       "      <th></th>\n",
       "      <th></th>\n",
       "      <th></th>\n",
       "      <th></th>\n",
       "      <th></th>\n",
       "      <th></th>\n",
       "      <th></th>\n",
       "      <th></th>\n",
       "    </tr>\n",
       "  </thead>\n",
       "  <tbody>\n",
       "    <tr>\n",
       "      <th>a. 101+</th>\n",
       "      <td>631</td>\n",
       "      <td>2279</td>\n",
       "      <td>2910</td>\n",
       "      <td>0.505204</td>\n",
       "      <td>0.712856</td>\n",
       "      <td>0.216838</td>\n",
       "      <td>-0.344317</td>\n",
       "      <td>0.071498</td>\n",
       "    </tr>\n",
       "    <tr>\n",
       "      <th>b. 76-100</th>\n",
       "      <td>290</td>\n",
       "      <td>524</td>\n",
       "      <td>814</td>\n",
       "      <td>0.232186</td>\n",
       "      <td>0.163904</td>\n",
       "      <td>0.356265</td>\n",
       "      <td>0.348259</td>\n",
       "      <td>0.023780</td>\n",
       "    </tr>\n",
       "    <tr>\n",
       "      <th>c. 1-75</th>\n",
       "      <td>328</td>\n",
       "      <td>394</td>\n",
       "      <td>722</td>\n",
       "      <td>0.262610</td>\n",
       "      <td>0.123241</td>\n",
       "      <td>0.454294</td>\n",
       "      <td>0.756532</td>\n",
       "      <td>0.105438</td>\n",
       "    </tr>\n",
       "  </tbody>\n",
       "</table>\n",
       "</div>"
      ],
      "text/plain": [
       "Status      bad  good  total      %bad     %good  bad rate       WOE        IV\n",
       "Income_bin                                                                    \n",
       "a. 101+     631  2279   2910  0.505204  0.712856  0.216838 -0.344317  0.071498\n",
       "b. 76-100   290   524    814  0.232186  0.163904  0.356265  0.348259  0.023780\n",
       "c. 1-75     328   394    722  0.262610  0.123241  0.454294  0.756532  0.105438"
      ]
     },
     "execution_count": 57,
     "metadata": {},
     "output_type": "execute_result"
    }
   ],
   "source": [
    "#Income_bin\n",
    "y_chart = df.pivot_table(values=['Price'], index=['Income_bin'], columns=['Status'], aggfunc='count')\n",
    "y_chart = y_chart['Price'].copy()\n",
    "y_chart['total'] = y_chart['bad'] + y_chart['good']\n",
    "y_chart['%bad'] = y_chart['bad'] / np.sum(y_chart['bad'])\n",
    "y_chart['%good'] = y_chart['good'] / np.sum(y_chart['good'])\n",
    "y_chart['bad rate'] = y_chart['bad'] / y_chart['total']\n",
    "y_chart['WOE'] = np.log(y_chart['%bad'] / y_chart['%good'])\n",
    "y_chart['IV'] = (y_chart['%bad'] - y_chart['%good']) * y_chart['WOE']\n",
    "\n",
    "print(\"IV: \",round(np.sum(y_chart['IV']),3))\n",
    "y_chart"
   ]
  },
  {
   "cell_type": "code",
   "execution_count": 58,
   "metadata": {},
   "outputs": [
    {
     "name": "stdout",
     "output_type": "stream",
     "text": [
      "IV:  0.187\n"
     ]
    },
    {
     "data": {
      "text/html": [
       "<div>\n",
       "<style>\n",
       "    .dataframe thead tr:only-child th {\n",
       "        text-align: right;\n",
       "    }\n",
       "\n",
       "    .dataframe thead th {\n",
       "        text-align: left;\n",
       "    }\n",
       "\n",
       "    .dataframe tbody tr th {\n",
       "        vertical-align: top;\n",
       "    }\n",
       "</style>\n",
       "<table border=\"1\" class=\"dataframe\">\n",
       "  <thead>\n",
       "    <tr style=\"text-align: right;\">\n",
       "      <th>Status</th>\n",
       "      <th>bad</th>\n",
       "      <th>good</th>\n",
       "      <th>total</th>\n",
       "      <th>%bad</th>\n",
       "      <th>%good</th>\n",
       "      <th>bad rate</th>\n",
       "      <th>WOE</th>\n",
       "      <th>IV</th>\n",
       "    </tr>\n",
       "    <tr>\n",
       "      <th>SavingRate_bin</th>\n",
       "      <th></th>\n",
       "      <th></th>\n",
       "      <th></th>\n",
       "      <th></th>\n",
       "      <th></th>\n",
       "      <th></th>\n",
       "      <th></th>\n",
       "      <th></th>\n",
       "    </tr>\n",
       "  </thead>\n",
       "  <tbody>\n",
       "    <tr>\n",
       "      <th>a. more</th>\n",
       "      <td>119</td>\n",
       "      <td>541</td>\n",
       "      <td>660</td>\n",
       "      <td>0.095276</td>\n",
       "      <td>0.169221</td>\n",
       "      <td>0.180303</td>\n",
       "      <td>-0.574426</td>\n",
       "      <td>0.042476</td>\n",
       "    </tr>\n",
       "    <tr>\n",
       "      <th>b. upto 0.75</th>\n",
       "      <td>509</td>\n",
       "      <td>1610</td>\n",
       "      <td>2119</td>\n",
       "      <td>0.407526</td>\n",
       "      <td>0.503597</td>\n",
       "      <td>0.240208</td>\n",
       "      <td>-0.211672</td>\n",
       "      <td>0.020336</td>\n",
       "    </tr>\n",
       "    <tr>\n",
       "      <th>c. upto 0.50</th>\n",
       "      <td>335</td>\n",
       "      <td>719</td>\n",
       "      <td>1054</td>\n",
       "      <td>0.268215</td>\n",
       "      <td>0.224898</td>\n",
       "      <td>0.317837</td>\n",
       "      <td>0.176139</td>\n",
       "      <td>0.007630</td>\n",
       "    </tr>\n",
       "    <tr>\n",
       "      <th>d. upto 0.25</th>\n",
       "      <td>140</td>\n",
       "      <td>208</td>\n",
       "      <td>348</td>\n",
       "      <td>0.112090</td>\n",
       "      <td>0.065061</td>\n",
       "      <td>0.402299</td>\n",
       "      <td>0.543974</td>\n",
       "      <td>0.025582</td>\n",
       "    </tr>\n",
       "    <tr>\n",
       "      <th>e. upto 0.00</th>\n",
       "      <td>146</td>\n",
       "      <td>119</td>\n",
       "      <td>265</td>\n",
       "      <td>0.116894</td>\n",
       "      <td>0.037222</td>\n",
       "      <td>0.550943</td>\n",
       "      <td>1.144353</td>\n",
       "      <td>0.091172</td>\n",
       "    </tr>\n",
       "  </tbody>\n",
       "</table>\n",
       "</div>"
      ],
      "text/plain": [
       "Status          bad  good  total      %bad     %good  bad rate       WOE  \\\n",
       "SavingRate_bin                                                             \n",
       "a. more         119   541    660  0.095276  0.169221  0.180303 -0.574426   \n",
       "b. upto 0.75    509  1610   2119  0.407526  0.503597  0.240208 -0.211672   \n",
       "c. upto 0.50    335   719   1054  0.268215  0.224898  0.317837  0.176139   \n",
       "d. upto 0.25    140   208    348  0.112090  0.065061  0.402299  0.543974   \n",
       "e. upto 0.00    146   119    265  0.116894  0.037222  0.550943  1.144353   \n",
       "\n",
       "Status                IV  \n",
       "SavingRate_bin            \n",
       "a. more         0.042476  \n",
       "b. upto 0.75    0.020336  \n",
       "c. upto 0.50    0.007630  \n",
       "d. upto 0.25    0.025582  \n",
       "e. upto 0.00    0.091172  "
      ]
     },
     "execution_count": 58,
     "metadata": {},
     "output_type": "execute_result"
    }
   ],
   "source": [
    "#SavingRate_bin\n",
    "y_chart = df.pivot_table(values=['Price'], index=['SavingRate_bin'], columns=['Status'], aggfunc='count')\n",
    "y_chart = y_chart['Price'].copy()\n",
    "y_chart['total'] = y_chart['bad'] + y_chart['good']\n",
    "y_chart['%bad'] = y_chart['bad'] / np.sum(y_chart['bad'])\n",
    "y_chart['%good'] = y_chart['good'] / np.sum(y_chart['good'])\n",
    "y_chart['bad rate'] = y_chart['bad'] / y_chart['total']\n",
    "y_chart['WOE'] = np.log(y_chart['%bad'] / y_chart['%good'])\n",
    "y_chart['IV'] = (y_chart['%bad'] - y_chart['%good']) * y_chart['WOE']\n",
    "\n",
    "print(\"IV: \",round(np.sum(y_chart['IV']),3))\n",
    "y_chart"
   ]
  },
  {
   "cell_type": "code",
   "execution_count": 59,
   "metadata": {},
   "outputs": [
    {
     "name": "stdout",
     "output_type": "stream",
     "text": [
      "IV:  0.066\n"
     ]
    },
    {
     "data": {
      "text/html": [
       "<div>\n",
       "<style>\n",
       "    .dataframe thead tr:only-child th {\n",
       "        text-align: right;\n",
       "    }\n",
       "\n",
       "    .dataframe thead th {\n",
       "        text-align: left;\n",
       "    }\n",
       "\n",
       "    .dataframe tbody tr th {\n",
       "        vertical-align: top;\n",
       "    }\n",
       "</style>\n",
       "<table border=\"1\" class=\"dataframe\">\n",
       "  <thead>\n",
       "    <tr style=\"text-align: right;\">\n",
       "      <th>Status</th>\n",
       "      <th>bad</th>\n",
       "      <th>good</th>\n",
       "      <th>total</th>\n",
       "      <th>%bad</th>\n",
       "      <th>%good</th>\n",
       "      <th>bad rate</th>\n",
       "      <th>WOE</th>\n",
       "      <th>IV</th>\n",
       "    </tr>\n",
       "    <tr>\n",
       "      <th>Amount_bin</th>\n",
       "      <th></th>\n",
       "      <th></th>\n",
       "      <th></th>\n",
       "      <th></th>\n",
       "      <th></th>\n",
       "      <th></th>\n",
       "      <th></th>\n",
       "      <th></th>\n",
       "    </tr>\n",
       "  </thead>\n",
       "  <tbody>\n",
       "    <tr>\n",
       "      <th>less than 1500</th>\n",
       "      <td>1030</td>\n",
       "      <td>2911</td>\n",
       "      <td>3941</td>\n",
       "      <td>0.82466</td>\n",
       "      <td>0.910541</td>\n",
       "      <td>0.261355</td>\n",
       "      <td>-0.099068</td>\n",
       "      <td>0.008508</td>\n",
       "    </tr>\n",
       "    <tr>\n",
       "      <th>more than 1500</th>\n",
       "      <td>219</td>\n",
       "      <td>286</td>\n",
       "      <td>505</td>\n",
       "      <td>0.17534</td>\n",
       "      <td>0.089459</td>\n",
       "      <td>0.433663</td>\n",
       "      <td>0.672950</td>\n",
       "      <td>0.057794</td>\n",
       "    </tr>\n",
       "  </tbody>\n",
       "</table>\n",
       "</div>"
      ],
      "text/plain": [
       "Status           bad  good  total     %bad     %good  bad rate       WOE  \\\n",
       "Amount_bin                                                                 \n",
       "less than 1500  1030  2911   3941  0.82466  0.910541  0.261355 -0.099068   \n",
       "more than 1500   219   286    505  0.17534  0.089459  0.433663  0.672950   \n",
       "\n",
       "Status                IV  \n",
       "Amount_bin                \n",
       "less than 1500  0.008508  \n",
       "more than 1500  0.057794  "
      ]
     },
     "execution_count": 59,
     "metadata": {},
     "output_type": "execute_result"
    }
   ],
   "source": [
    "#Amount_bin\n",
    "y_chart = df.pivot_table(values=['Price'], index=['Amount_bin'], columns=['Status'], aggfunc='count')\n",
    "y_chart = y_chart['Price'].copy()\n",
    "y_chart['total'] = y_chart['bad'] + y_chart['good']\n",
    "y_chart['%bad'] = y_chart['bad'] / np.sum(y_chart['bad'])\n",
    "y_chart['%good'] = y_chart['good'] / np.sum(y_chart['good'])\n",
    "y_chart['bad rate'] = y_chart['bad'] / y_chart['total']\n",
    "y_chart['WOE'] = np.log(y_chart['%bad'] / y_chart['%good'])\n",
    "y_chart['IV'] = (y_chart['%bad'] - y_chart['%good']) * y_chart['WOE']\n",
    "\n",
    "print(\"IV: \",round(np.sum(y_chart['IV']),3))\n",
    "y_chart"
   ]
  },
  {
   "cell_type": "code",
   "execution_count": 60,
   "metadata": {},
   "outputs": [
    {
     "name": "stdout",
     "output_type": "stream",
     "text": [
      "IV:  0.248\n"
     ]
    },
    {
     "data": {
      "text/html": [
       "<div>\n",
       "<style>\n",
       "    .dataframe thead tr:only-child th {\n",
       "        text-align: right;\n",
       "    }\n",
       "\n",
       "    .dataframe thead th {\n",
       "        text-align: left;\n",
       "    }\n",
       "\n",
       "    .dataframe tbody tr th {\n",
       "        vertical-align: top;\n",
       "    }\n",
       "</style>\n",
       "<table border=\"1\" class=\"dataframe\">\n",
       "  <thead>\n",
       "    <tr style=\"text-align: right;\">\n",
       "      <th>Status</th>\n",
       "      <th>bad</th>\n",
       "      <th>good</th>\n",
       "      <th>total</th>\n",
       "      <th>%bad</th>\n",
       "      <th>%good</th>\n",
       "      <th>bad rate</th>\n",
       "      <th>WOE</th>\n",
       "      <th>IV</th>\n",
       "    </tr>\n",
       "    <tr>\n",
       "      <th>FinRate_bin</th>\n",
       "      <th></th>\n",
       "      <th></th>\n",
       "      <th></th>\n",
       "      <th></th>\n",
       "      <th></th>\n",
       "      <th></th>\n",
       "      <th></th>\n",
       "      <th></th>\n",
       "    </tr>\n",
       "  </thead>\n",
       "  <tbody>\n",
       "    <tr>\n",
       "      <th>a. upto 0.50</th>\n",
       "      <td>88</td>\n",
       "      <td>628</td>\n",
       "      <td>716</td>\n",
       "      <td>0.070456</td>\n",
       "      <td>0.196434</td>\n",
       "      <td>0.122905</td>\n",
       "      <td>-1.025334</td>\n",
       "      <td>0.129169</td>\n",
       "    </tr>\n",
       "    <tr>\n",
       "      <th>b. upto 0.75</th>\n",
       "      <td>287</td>\n",
       "      <td>1043</td>\n",
       "      <td>1330</td>\n",
       "      <td>0.229784</td>\n",
       "      <td>0.326243</td>\n",
       "      <td>0.215789</td>\n",
       "      <td>-0.350505</td>\n",
       "      <td>0.033810</td>\n",
       "    </tr>\n",
       "    <tr>\n",
       "      <th>c. more</th>\n",
       "      <td>874</td>\n",
       "      <td>1526</td>\n",
       "      <td>2400</td>\n",
       "      <td>0.699760</td>\n",
       "      <td>0.477322</td>\n",
       "      <td>0.364167</td>\n",
       "      <td>0.382545</td>\n",
       "      <td>0.085092</td>\n",
       "    </tr>\n",
       "  </tbody>\n",
       "</table>\n",
       "</div>"
      ],
      "text/plain": [
       "Status        bad  good  total      %bad     %good  bad rate       WOE  \\\n",
       "FinRate_bin                                                              \n",
       "a. upto 0.50   88   628    716  0.070456  0.196434  0.122905 -1.025334   \n",
       "b. upto 0.75  287  1043   1330  0.229784  0.326243  0.215789 -0.350505   \n",
       "c. more       874  1526   2400  0.699760  0.477322  0.364167  0.382545   \n",
       "\n",
       "Status              IV  \n",
       "FinRate_bin             \n",
       "a. upto 0.50  0.129169  \n",
       "b. upto 0.75  0.033810  \n",
       "c. more       0.085092  "
      ]
     },
     "execution_count": 60,
     "metadata": {},
     "output_type": "execute_result"
    }
   ],
   "source": [
    "#FinRate_bin\n",
    "y_chart = df.pivot_table(values=['Price'], index=['FinRate_bin'], columns=['Status'], aggfunc='count')\n",
    "y_chart = y_chart['Price'].copy()\n",
    "y_chart['total'] = y_chart['bad'] + y_chart['good']\n",
    "y_chart['%bad'] = y_chart['bad'] / np.sum(y_chart['bad'])\n",
    "y_chart['%good'] = y_chart['good'] / np.sum(y_chart['good'])\n",
    "y_chart['bad rate'] = y_chart['bad'] / y_chart['total']\n",
    "y_chart['WOE'] = np.log(y_chart['%bad'] / y_chart['%good'])\n",
    "y_chart['IV'] = (y_chart['%bad'] - y_chart['%good']) * y_chart['WOE']\n",
    "\n",
    "print(\"IV: \",round(np.sum(y_chart['IV']),3))\n",
    "y_chart"
   ]
  },
  {
   "cell_type": "markdown",
   "metadata": {},
   "source": [
    "# LOGREG - Building the Model"
   ]
  },
  {
   "cell_type": "code",
   "execution_count": 61,
   "metadata": {},
   "outputs": [
    {
     "name": "stdout",
     "output_type": "stream",
     "text": [
      "<class 'pandas.core.frame.DataFrame'>\n",
      "RangeIndex: 4446 entries, 0 to 4445\n",
      "Data columns (total 21 columns):\n",
      "actual                           4446 non-null int64\n",
      "Seniority_bin_b. 12-15           4446 non-null uint8\n",
      "Seniority_bin_c. 6-11            4446 non-null uint8\n",
      "Seniority_bin_d. 3-5             4446 non-null uint8\n",
      "Seniority_bin_e. 2               4446 non-null uint8\n",
      "Seniority_bin_f. 1               4446 non-null uint8\n",
      "Seniority_bin_g. 0               4446 non-null uint8\n",
      "Home_bin_b. parents              4446 non-null uint8\n",
      "Home_bin_c. priv / rent          4446 non-null uint8\n",
      "Home_bin_d. ignore / other       4446 non-null uint8\n",
      "Records_yes_rec                  4446 non-null uint8\n",
      "Job_bin_b. freelance / others    4446 non-null uint8\n",
      "Job_bin_c. partime               4446 non-null uint8\n",
      "Income_bin_b. 76-100             4446 non-null uint8\n",
      "Income_bin_c. 1-75               4446 non-null uint8\n",
      "SavingRate_bin_b. upto 0.75      4446 non-null uint8\n",
      "SavingRate_bin_c. upto 0.50      4446 non-null uint8\n",
      "SavingRate_bin_d. upto 0.25      4446 non-null uint8\n",
      "SavingRate_bin_e. upto 0.00      4446 non-null uint8\n",
      "FinRate_bin_b. upto 0.75         4446 non-null uint8\n",
      "FinRate_bin_c. more              4446 non-null uint8\n",
      "dtypes: int64(1), uint8(20)\n",
      "memory usage: 121.6 KB\n"
     ]
    }
   ],
   "source": [
    "df['actual'] = df['Status'].apply(lambda x: 0 if x== \"good\" else 1)\n",
    "\n",
    "temp = df[['Seniority_bin','Home_bin','Records','Job_bin','Income_bin','SavingRate_bin','FinRate_bin','actual']].copy()\n",
    "\n",
    "cat_feats = ['Seniority_bin','Home_bin','Records','Job_bin','Income_bin','SavingRate_bin','FinRate_bin']\n",
    "final_data = pd.get_dummies(temp,columns=cat_feats,drop_first=True)\n",
    "final_data.info()"
   ]
  },
  {
   "cell_type": "code",
   "execution_count": 62,
   "metadata": {
    "collapsed": true
   },
   "outputs": [],
   "source": [
    "x = final_data.drop(['actual'],axis=1)\n",
    "y = final_data['actual']\n",
    "x_train, x_test, y_train, y_test = train_test_split(x,y,test_size=0.3, random_state=101)"
   ]
  },
  {
   "cell_type": "code",
   "execution_count": 63,
   "metadata": {},
   "outputs": [
    {
     "name": "stdout",
     "output_type": "stream",
     "text": [
      "Optimization terminated successfully.\n",
      "         Current function value: 0.451158\n",
      "         Iterations 7\n"
     ]
    },
    {
     "data": {
      "text/html": [
       "<table class=\"simpletable\">\n",
       "<caption>Logit Regression Results</caption>\n",
       "<tr>\n",
       "  <th>Dep. Variable:</th>      <td>actual</td>      <th>  No. Observations:  </th>   <td>  3112</td>  \n",
       "</tr>\n",
       "<tr>\n",
       "  <th>Model:</th>               <td>Logit</td>      <th>  Df Residuals:      </th>   <td>  3091</td>  \n",
       "</tr>\n",
       "<tr>\n",
       "  <th>Method:</th>               <td>MLE</td>       <th>  Df Model:          </th>   <td>    20</td>  \n",
       "</tr>\n",
       "<tr>\n",
       "  <th>Date:</th>          <td>Thu, 07 Dec 2017</td> <th>  Pseudo R-squ.:     </th>   <td>0.2421</td>  \n",
       "</tr>\n",
       "<tr>\n",
       "  <th>Time:</th>              <td>04:27:52</td>     <th>  Log-Likelihood:    </th>  <td> -1404.0</td> \n",
       "</tr>\n",
       "<tr>\n",
       "  <th>converged:</th>           <td>True</td>       <th>  LL-Null:           </th>  <td> -1852.4</td> \n",
       "</tr>\n",
       "<tr>\n",
       "  <th> </th>                      <td> </td>        <th>  LLR p-value:       </th> <td>3.639e-177</td>\n",
       "</tr>\n",
       "</table>\n",
       "<table class=\"simpletable\">\n",
       "<tr>\n",
       "                <td></td>                   <th>coef</th>     <th>std err</th>      <th>z</th>      <th>P>|z|</th>  <th>[0.025</th>    <th>0.975]</th>  \n",
       "</tr>\n",
       "<tr>\n",
       "  <th>const</th>                         <td>   -4.5473</td> <td>    0.267</td> <td>  -17.062</td> <td> 0.000</td> <td>   -5.070</td> <td>   -4.025</td>\n",
       "</tr>\n",
       "<tr>\n",
       "  <th>Seniority_bin_b. 12-15</th>        <td>    0.4324</td> <td>    0.229</td> <td>    1.887</td> <td> 0.059</td> <td>   -0.017</td> <td>    0.881</td>\n",
       "</tr>\n",
       "<tr>\n",
       "  <th>Seniority_bin_c. 6-11</th>         <td>    0.7140</td> <td>    0.191</td> <td>    3.732</td> <td> 0.000</td> <td>    0.339</td> <td>    1.089</td>\n",
       "</tr>\n",
       "<tr>\n",
       "  <th>Seniority_bin_d. 3-5</th>          <td>    1.0310</td> <td>    0.189</td> <td>    5.441</td> <td> 0.000</td> <td>    0.660</td> <td>    1.402</td>\n",
       "</tr>\n",
       "<tr>\n",
       "  <th>Seniority_bin_e. 2</th>            <td>    1.4716</td> <td>    0.206</td> <td>    7.136</td> <td> 0.000</td> <td>    1.067</td> <td>    1.876</td>\n",
       "</tr>\n",
       "<tr>\n",
       "  <th>Seniority_bin_f. 1</th>            <td>    1.4022</td> <td>    0.205</td> <td>    6.853</td> <td> 0.000</td> <td>    1.001</td> <td>    1.803</td>\n",
       "</tr>\n",
       "<tr>\n",
       "  <th>Seniority_bin_g. 0</th>            <td>    1.8733</td> <td>    0.206</td> <td>    9.075</td> <td> 0.000</td> <td>    1.469</td> <td>    2.278</td>\n",
       "</tr>\n",
       "<tr>\n",
       "  <th>Home_bin_b. parents</th>           <td>    0.2859</td> <td>    0.139</td> <td>    2.054</td> <td> 0.040</td> <td>    0.013</td> <td>    0.559</td>\n",
       "</tr>\n",
       "<tr>\n",
       "  <th>Home_bin_c. priv / rent</th>       <td>    0.8359</td> <td>    0.114</td> <td>    7.301</td> <td> 0.000</td> <td>    0.611</td> <td>    1.060</td>\n",
       "</tr>\n",
       "<tr>\n",
       "  <th>Home_bin_d. ignore / other</th>    <td>    0.9888</td> <td>    0.178</td> <td>    5.551</td> <td> 0.000</td> <td>    0.640</td> <td>    1.338</td>\n",
       "</tr>\n",
       "<tr>\n",
       "  <th>Records_yes_rec</th>               <td>    1.6254</td> <td>    0.117</td> <td>   13.862</td> <td> 0.000</td> <td>    1.396</td> <td>    1.855</td>\n",
       "</tr>\n",
       "<tr>\n",
       "  <th>Job_bin_b. freelance / others</th> <td>    0.6541</td> <td>    0.109</td> <td>    6.019</td> <td> 0.000</td> <td>    0.441</td> <td>    0.867</td>\n",
       "</tr>\n",
       "<tr>\n",
       "  <th>Job_bin_c. partime</th>            <td>    1.1688</td> <td>    0.154</td> <td>    7.611</td> <td> 0.000</td> <td>    0.868</td> <td>    1.470</td>\n",
       "</tr>\n",
       "<tr>\n",
       "  <th>Income_bin_b. 76-100</th>          <td>    0.5426</td> <td>    0.133</td> <td>    4.079</td> <td> 0.000</td> <td>    0.282</td> <td>    0.803</td>\n",
       "</tr>\n",
       "<tr>\n",
       "  <th>Income_bin_c. 1-75</th>            <td>    0.5427</td> <td>    0.169</td> <td>    3.212</td> <td> 0.001</td> <td>    0.212</td> <td>    0.874</td>\n",
       "</tr>\n",
       "<tr>\n",
       "  <th>SavingRate_bin_b. upto 0.75</th>   <td>    0.2194</td> <td>    0.159</td> <td>    1.382</td> <td> 0.167</td> <td>   -0.092</td> <td>    0.531</td>\n",
       "</tr>\n",
       "<tr>\n",
       "  <th>SavingRate_bin_c. upto 0.50</th>   <td>    0.4212</td> <td>    0.188</td> <td>    2.236</td> <td> 0.025</td> <td>    0.052</td> <td>    0.790</td>\n",
       "</tr>\n",
       "<tr>\n",
       "  <th>SavingRate_bin_d. upto 0.25</th>   <td>    0.6799</td> <td>    0.236</td> <td>    2.877</td> <td> 0.004</td> <td>    0.217</td> <td>    1.143</td>\n",
       "</tr>\n",
       "<tr>\n",
       "  <th>SavingRate_bin_e. upto 0.00</th>   <td>    1.1318</td> <td>    0.278</td> <td>    4.076</td> <td> 0.000</td> <td>    0.588</td> <td>    1.676</td>\n",
       "</tr>\n",
       "<tr>\n",
       "  <th>FinRate_bin_b. upto 0.75</th>      <td>    0.6248</td> <td>    0.174</td> <td>    3.597</td> <td> 0.000</td> <td>    0.284</td> <td>    0.965</td>\n",
       "</tr>\n",
       "<tr>\n",
       "  <th>FinRate_bin_c. more</th>           <td>    1.3926</td> <td>    0.162</td> <td>    8.595</td> <td> 0.000</td> <td>    1.075</td> <td>    1.710</td>\n",
       "</tr>\n",
       "</table>"
      ],
      "text/plain": [
       "<class 'statsmodels.iolib.summary.Summary'>\n",
       "\"\"\"\n",
       "                           Logit Regression Results                           \n",
       "==============================================================================\n",
       "Dep. Variable:                 actual   No. Observations:                 3112\n",
       "Model:                          Logit   Df Residuals:                     3091\n",
       "Method:                           MLE   Df Model:                           20\n",
       "Date:                Thu, 07 Dec 2017   Pseudo R-squ.:                  0.2421\n",
       "Time:                        04:27:52   Log-Likelihood:                -1404.0\n",
       "converged:                       True   LL-Null:                       -1852.4\n",
       "                                        LLR p-value:                3.639e-177\n",
       "=================================================================================================\n",
       "                                    coef    std err          z      P>|z|      [0.025      0.975]\n",
       "-------------------------------------------------------------------------------------------------\n",
       "const                            -4.5473      0.267    -17.062      0.000      -5.070      -4.025\n",
       "Seniority_bin_b. 12-15            0.4324      0.229      1.887      0.059      -0.017       0.881\n",
       "Seniority_bin_c. 6-11             0.7140      0.191      3.732      0.000       0.339       1.089\n",
       "Seniority_bin_d. 3-5              1.0310      0.189      5.441      0.000       0.660       1.402\n",
       "Seniority_bin_e. 2                1.4716      0.206      7.136      0.000       1.067       1.876\n",
       "Seniority_bin_f. 1                1.4022      0.205      6.853      0.000       1.001       1.803\n",
       "Seniority_bin_g. 0                1.8733      0.206      9.075      0.000       1.469       2.278\n",
       "Home_bin_b. parents               0.2859      0.139      2.054      0.040       0.013       0.559\n",
       "Home_bin_c. priv / rent           0.8359      0.114      7.301      0.000       0.611       1.060\n",
       "Home_bin_d. ignore / other        0.9888      0.178      5.551      0.000       0.640       1.338\n",
       "Records_yes_rec                   1.6254      0.117     13.862      0.000       1.396       1.855\n",
       "Job_bin_b. freelance / others     0.6541      0.109      6.019      0.000       0.441       0.867\n",
       "Job_bin_c. partime                1.1688      0.154      7.611      0.000       0.868       1.470\n",
       "Income_bin_b. 76-100              0.5426      0.133      4.079      0.000       0.282       0.803\n",
       "Income_bin_c. 1-75                0.5427      0.169      3.212      0.001       0.212       0.874\n",
       "SavingRate_bin_b. upto 0.75       0.2194      0.159      1.382      0.167      -0.092       0.531\n",
       "SavingRate_bin_c. upto 0.50       0.4212      0.188      2.236      0.025       0.052       0.790\n",
       "SavingRate_bin_d. upto 0.25       0.6799      0.236      2.877      0.004       0.217       1.143\n",
       "SavingRate_bin_e. upto 0.00       1.1318      0.278      4.076      0.000       0.588       1.676\n",
       "FinRate_bin_b. upto 0.75          0.6248      0.174      3.597      0.000       0.284       0.965\n",
       "FinRate_bin_c. more               1.3926      0.162      8.595      0.000       1.075       1.710\n",
       "=================================================================================================\n",
       "\"\"\""
      ]
     },
     "execution_count": 63,
     "metadata": {},
     "output_type": "execute_result"
    }
   ],
   "source": [
    "x_train = sm.add_constant(x_train).copy()\n",
    "logit = sm.Logit(y_train, x_train)\n",
    "model = logit.fit()\n",
    "model.summary()"
   ]
  },
  {
   "cell_type": "code",
   "execution_count": 64,
   "metadata": {},
   "outputs": [
    {
     "data": {
      "text/plain": [
       "<matplotlib.legend.Legend at 0x1fd5571f668>"
      ]
     },
     "execution_count": 64,
     "metadata": {},
     "output_type": "execute_result"
    },
    {
     "data": {
      "image/png": "[encoded data removed]",
      "text/plain": [
       "<matplotlib.figure.Figure at 0x1fd541946d8>"
      ]
     },
     "metadata": {},
     "output_type": "display_data"
    }
   ],
   "source": [
    "from sklearn.metrics import roc_curve\n",
    "from sklearn.metrics import auc\n",
    "\n",
    "y_pred = model.predict(x_train)\n",
    "fpr, tpr, thresholds = roc_curve(y_train, y_pred)\n",
    "roc_auc = auc(fpr, tpr)\n",
    "\n",
    "plt.figure(figsize=(7,7))\n",
    "plt.plot(fpr, tpr, label='ROC curve (area = %0.3f)' % roc_auc,color=\"darkred\")\n",
    "plt.plot([0, 1], [0, 1], 'k--',color=\"black\") \n",
    "plt.xlim([0.0, 1.0])\n",
    "plt.ylim([0.0, 1.0])\n",
    "plt.xlabel('False Positive Rate or (1 - Specifity)')\n",
    "plt.ylabel('True Positive Rate or (Sensitivity)')\n",
    "plt.title('Receiver Operating Characteristic')\n",
    "plt.legend(loc=\"lower right\")"
   ]
  },
  {
   "cell_type": "markdown",
   "metadata": {},
   "source": [
    "# LOGREG - Predictions and Evaluation"
   ]
  },
  {
   "cell_type": "code",
   "execution_count": 67,
   "metadata": {
    "collapsed": true
   },
   "outputs": [],
   "source": [
    "x_test = sm.add_constant(x_test).copy()\n",
    "y_pred = model.predict(x_test)\n",
    "\n",
    "x_test = x_test.reset_index(drop=True)\n",
    "y_test = y_test.reset_index(drop=True)\n",
    "test_calc = pd.concat([x_test,y_test,pd.DataFrame(y_pred)],axis=1)\n",
    "test_calc.rename(columns={0: 'predicted'}, inplace=True)"
   ]
  },
  {
   "cell_type": "code",
   "execution_count": 68,
   "metadata": {},
   "outputs": [
    {
     "name": "stdout",
     "output_type": "stream",
     "text": [
      "max f:  0.3\n",
      "max a:  0.5\n"
     ]
    },
    {
     "data": {
      "image/png": "[encoded data removed]",
      "text/plain": [
       "<matplotlib.figure.Figure at 0x1fd5575ac88>"
      ]
     },
     "metadata": {},
     "output_type": "display_data"
    }
   ],
   "source": [
    "c = [0.15,0.2,0.25,0.3,0.35,0.4,0.45,0.5,0.55,0.6,0.65,0.7,0.75,0.8,0.85]\n",
    "a = [0.15,0.2,0.25,0.3,0.35,0.4,0.45,0.5,0.55,0.6,0.65,0.7,0.75,0.8,0.85]\n",
    "p = [0.15,0.2,0.25,0.3,0.35,0.4,0.45,0.5,0.55,0.6,0.65,0.7,0.75,0.8,0.85]\n",
    "r = [0.15,0.2,0.25,0.3,0.35,0.4,0.45,0.5,0.55,0.6,0.65,0.7,0.75,0.8,0.85]\n",
    "f = [0.15,0.2,0.25,0.3,0.35,0.4,0.45,0.5,0.55,0.6,0.65,0.7,0.75,0.8,0.85]\n",
    "i = 0\n",
    "\n",
    "for j in c:\n",
    "    def flag(cols):\n",
    "        x = cols[0]\n",
    "        j = cols[1]\n",
    "        if x > j: return 1\n",
    "        else: return 0\n",
    "    test_calc['j']=j\n",
    "    test_calc['flag'] = test_calc[['predicted','j']].apply(flag,axis=1)\n",
    "    df_table = confusion_matrix(test_calc['actual'],test_calc['flag'])\n",
    "    a[i] = (df_table[0,0] + df_table[1,1]) / (df_table[0,0] + df_table[0,1] + df_table[1,0] + df_table[1,1])\n",
    "    p[i] = df_table[1,1] / (df_table[1,1] + df_table[0,1])\n",
    "    r[i] = df_table[1,1] / (df_table[1,1] + df_table[1,0])\n",
    "    f[i] = (2 * p[i] * r[i]) / (p[i] + r[i])\n",
    "    i = i+1\n",
    "\n",
    "df_decision = pd.concat([pd.DataFrame(c),pd.DataFrame(a),pd.DataFrame(p),pd.DataFrame(r),pd.DataFrame(f)],axis=1)\n",
    "df_decision.columns = ['c','a','p','r','f']\n",
    "\n",
    "f_max = df_decision[df_decision['f']==df_decision['f'].max()].head(1)\n",
    "max_f = float(f_max['c'])\n",
    "a_max = df_decision[df_decision['a']==df_decision['a'].max()].head(1)\n",
    "max_a = float(a_max['c'])\n",
    "\n",
    "df_decision.plot(x='c',y=['f','a'],marker=\"o\")\n",
    "\n",
    "print (\"max f: \",max_f)\n",
    "print (\"max a: \",max_a)"
   ]
  },
  {
   "cell_type": "code",
   "execution_count": 69,
   "metadata": {},
   "outputs": [
    {
     "name": "stdout",
     "output_type": "stream",
     "text": [
      "\u001b[1m\u001b[4maccuracy\u001b[0m\n",
      "79.76 %\n",
      "\n",
      "\n",
      "\u001b[1m\u001b[4mclassification_report\u001b[0m\n",
      "             precision    recall  f1-score   support\n",
      "\n",
      "          0       0.83      0.90      0.87       964\n",
      "          1       0.67      0.52      0.59       370\n",
      "\n",
      "avg / total       0.79      0.80      0.79      1334\n",
      "\n",
      "\n",
      "\n",
      "\u001b[1m\u001b[4mconfusion_matrix\u001b[0m\n",
      "[[870  94]\n",
      " [176 194]]\n"
     ]
    }
   ],
   "source": [
    "y_pred = model.predict(x_test)\n",
    "test_calc = pd.concat([pd.DataFrame(y_test),pd.DataFrame(y_pred)],axis=1)\n",
    "test_calc.rename(columns={0: 'predicted'}, inplace=True)\n",
    "test_calc['predicted'] = test_calc['predicted'].apply(lambda x: 1 if x > 0.5 else 0)\n",
    "\n",
    "print('\\033[1m' + '\\033[4m' + 'accuracy' + '\\033[0m')\n",
    "print(round(np.mean(test_calc['actual']==test_calc['predicted'])*100,2),\"%\")\n",
    "print('\\n')\n",
    "print('\\033[1m' + '\\033[4m' + 'classification_report' + '\\033[0m')\n",
    "print(classification_report(test_calc['actual'],test_calc['predicted']))\n",
    "print('\\n')\n",
    "print('\\033[1m' + '\\033[4m' + 'confusion_matrix' + '\\033[0m')\n",
    "print(confusion_matrix(test_calc['actual'],test_calc['predicted']))"
   ]
  },
  {
   "cell_type": "code",
   "execution_count": null,
   "metadata": {
    "collapsed": true
   },
   "outputs": [],
   "source": []
  }
 ],
 "metadata": {
  "kernelspec": {
   "display_name": "Python 3",
   "language": "python",
   "name": "python3"
  },
  "language_info": {
   "codemirror_mode": {
    "name": "ipython",
    "version": 3
   },
   "file_extension": ".py",
   "mimetype": "text/x-python",
   "name": "python",
   "nbconvert_exporter": "python",
   "pygments_lexer": "ipython3",
   "version": "3.6.2"
  }
 },
 "nbformat": 4,
 "nbformat_minor": 2
}
